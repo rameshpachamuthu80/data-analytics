{
 "cells": [
  {
   "cell_type": "code",
   "execution_count": 1,
   "id": "ad317616",
   "metadata": {},
   "outputs": [],
   "source": [
    "# Pedestrian Counting System\n",
    "## Dependecy Modules: Pandas and NumPy\n",
    "## Source data expected in as: 'data/data.csv' - relative to the working directory"
   ]
  },
  {
   "cell_type": "code",
   "execution_count": 2,
   "id": "34f8db7f",
   "metadata": {},
   "outputs": [],
   "source": [
    "import pandas as pd"
   ]
  },
  {
   "cell_type": "code",
   "execution_count": 3,
   "id": "e10d1d3b",
   "metadata": {},
   "outputs": [],
   "source": [
    "#create a dataframe with data to be analysed\n",
    "df = pd.read_csv('data/data.csv')"
   ]
  },
  {
   "cell_type": "code",
   "execution_count": 4,
   "id": "f444f247",
   "metadata": {},
   "outputs": [
    {
     "name": "stdout",
     "output_type": "stream",
     "text": [
      "Index(['ID', 'Date_Time', 'Year', 'Month', 'Mdate', 'Day', 'Time', 'Sensor_ID',\n",
      "       'Sensor_Name', 'Hourly_Counts'],\n",
      "      dtype='object')\n"
     ]
    }
   ],
   "source": [
    "#Review dataframe - columns\n",
    "print(df.keys())"
   ]
  },
  {
   "cell_type": "code",
   "execution_count": 5,
   "id": "0daf1b59",
   "metadata": {},
   "outputs": [
    {
     "data": {
      "text/html": [
       "<div>\n",
       "<style scoped>\n",
       "    .dataframe tbody tr th:only-of-type {\n",
       "        vertical-align: middle;\n",
       "    }\n",
       "\n",
       "    .dataframe tbody tr th {\n",
       "        vertical-align: top;\n",
       "    }\n",
       "\n",
       "    .dataframe thead th {\n",
       "        text-align: right;\n",
       "    }\n",
       "</style>\n",
       "<table border=\"1\" class=\"dataframe\">\n",
       "  <thead>\n",
       "    <tr style=\"text-align: right;\">\n",
       "      <th></th>\n",
       "      <th>ID</th>\n",
       "      <th>Date_Time</th>\n",
       "      <th>Year</th>\n",
       "      <th>Month</th>\n",
       "      <th>Mdate</th>\n",
       "      <th>Day</th>\n",
       "      <th>Time</th>\n",
       "      <th>Sensor_ID</th>\n",
       "      <th>Sensor_Name</th>\n",
       "      <th>Hourly_Counts</th>\n",
       "    </tr>\n",
       "  </thead>\n",
       "  <tbody>\n",
       "    <tr>\n",
       "      <th>0</th>\n",
       "      <td>2887628</td>\n",
       "      <td>November 01, 2019 05:00:00 PM</td>\n",
       "      <td>2019</td>\n",
       "      <td>November</td>\n",
       "      <td>1</td>\n",
       "      <td>Friday</td>\n",
       "      <td>17</td>\n",
       "      <td>34</td>\n",
       "      <td>Flinders St-Spark La</td>\n",
       "      <td>300</td>\n",
       "    </tr>\n",
       "    <tr>\n",
       "      <th>1</th>\n",
       "      <td>2887629</td>\n",
       "      <td>November 01, 2019 05:00:00 PM</td>\n",
       "      <td>2019</td>\n",
       "      <td>November</td>\n",
       "      <td>1</td>\n",
       "      <td>Friday</td>\n",
       "      <td>17</td>\n",
       "      <td>39</td>\n",
       "      <td>Alfred Place</td>\n",
       "      <td>604</td>\n",
       "    </tr>\n",
       "    <tr>\n",
       "      <th>2</th>\n",
       "      <td>2887630</td>\n",
       "      <td>November 01, 2019 05:00:00 PM</td>\n",
       "      <td>2019</td>\n",
       "      <td>November</td>\n",
       "      <td>1</td>\n",
       "      <td>Friday</td>\n",
       "      <td>17</td>\n",
       "      <td>37</td>\n",
       "      <td>Lygon St (East)</td>\n",
       "      <td>216</td>\n",
       "    </tr>\n",
       "    <tr>\n",
       "      <th>3</th>\n",
       "      <td>2887631</td>\n",
       "      <td>November 01, 2019 05:00:00 PM</td>\n",
       "      <td>2019</td>\n",
       "      <td>November</td>\n",
       "      <td>1</td>\n",
       "      <td>Friday</td>\n",
       "      <td>17</td>\n",
       "      <td>40</td>\n",
       "      <td>Lonsdale St-Spring St (West)</td>\n",
       "      <td>627</td>\n",
       "    </tr>\n",
       "    <tr>\n",
       "      <th>4</th>\n",
       "      <td>2887632</td>\n",
       "      <td>November 01, 2019 05:00:00 PM</td>\n",
       "      <td>2019</td>\n",
       "      <td>November</td>\n",
       "      <td>1</td>\n",
       "      <td>Friday</td>\n",
       "      <td>17</td>\n",
       "      <td>36</td>\n",
       "      <td>Queen St (West)</td>\n",
       "      <td>774</td>\n",
       "    </tr>\n",
       "  </tbody>\n",
       "</table>\n",
       "</div>"
      ],
      "text/plain": [
       "        ID                      Date_Time  Year     Month  Mdate     Day  \\\n",
       "0  2887628  November 01, 2019 05:00:00 PM  2019  November      1  Friday   \n",
       "1  2887629  November 01, 2019 05:00:00 PM  2019  November      1  Friday   \n",
       "2  2887630  November 01, 2019 05:00:00 PM  2019  November      1  Friday   \n",
       "3  2887631  November 01, 2019 05:00:00 PM  2019  November      1  Friday   \n",
       "4  2887632  November 01, 2019 05:00:00 PM  2019  November      1  Friday   \n",
       "\n",
       "   Time  Sensor_ID                   Sensor_Name  Hourly_Counts  \n",
       "0    17         34          Flinders St-Spark La            300  \n",
       "1    17         39                  Alfred Place            604  \n",
       "2    17         37               Lygon St (East)            216  \n",
       "3    17         40  Lonsdale St-Spring St (West)            627  \n",
       "4    17         36               Queen St (West)            774  "
      ]
     },
     "execution_count": 5,
     "metadata": {},
     "output_type": "execute_result"
    }
   ],
   "source": [
    "#Review dataframe - data\n",
    "df.head()"
   ]
  },
  {
   "cell_type": "code",
   "execution_count": 6,
   "id": "15a41129",
   "metadata": {},
   "outputs": [
    {
     "data": {
      "text/html": [
       "<div>\n",
       "<style scoped>\n",
       "    .dataframe tbody tr th:only-of-type {\n",
       "        vertical-align: middle;\n",
       "    }\n",
       "\n",
       "    .dataframe tbody tr th {\n",
       "        vertical-align: top;\n",
       "    }\n",
       "\n",
       "    .dataframe thead th {\n",
       "        text-align: right;\n",
       "    }\n",
       "</style>\n",
       "<table border=\"1\" class=\"dataframe\">\n",
       "  <thead>\n",
       "    <tr style=\"text-align: right;\">\n",
       "      <th></th>\n",
       "      <th>ID</th>\n",
       "      <th>Date_Time</th>\n",
       "      <th>Year</th>\n",
       "      <th>Month</th>\n",
       "      <th>Mdate</th>\n",
       "      <th>Day</th>\n",
       "      <th>Time</th>\n",
       "      <th>Sensor_ID</th>\n",
       "      <th>Sensor_Name</th>\n",
       "      <th>Hourly_Counts</th>\n",
       "    </tr>\n",
       "  </thead>\n",
       "  <tbody>\n",
       "    <tr>\n",
       "      <th>count</th>\n",
       "      <td>4.415574e+06</td>\n",
       "      <td>4415574</td>\n",
       "      <td>4.415574e+06</td>\n",
       "      <td>4415574</td>\n",
       "      <td>4.415574e+06</td>\n",
       "      <td>4415574</td>\n",
       "      <td>4.415574e+06</td>\n",
       "      <td>4.415574e+06</td>\n",
       "      <td>4415574</td>\n",
       "      <td>4.415574e+06</td>\n",
       "    </tr>\n",
       "    <tr>\n",
       "      <th>unique</th>\n",
       "      <td>NaN</td>\n",
       "      <td>115465</td>\n",
       "      <td>NaN</td>\n",
       "      <td>12</td>\n",
       "      <td>NaN</td>\n",
       "      <td>7</td>\n",
       "      <td>NaN</td>\n",
       "      <td>NaN</td>\n",
       "      <td>94</td>\n",
       "      <td>NaN</td>\n",
       "    </tr>\n",
       "    <tr>\n",
       "      <th>top</th>\n",
       "      <td>NaN</td>\n",
       "      <td>September 16, 2010 12:00:00 AM</td>\n",
       "      <td>NaN</td>\n",
       "      <td>July</td>\n",
       "      <td>NaN</td>\n",
       "      <td>Saturday</td>\n",
       "      <td>NaN</td>\n",
       "      <td>NaN</td>\n",
       "      <td>Bourke Street Mall (South)</td>\n",
       "      <td>NaN</td>\n",
       "    </tr>\n",
       "    <tr>\n",
       "      <th>freq</th>\n",
       "      <td>NaN</td>\n",
       "      <td>408</td>\n",
       "      <td>NaN</td>\n",
       "      <td>397510</td>\n",
       "      <td>NaN</td>\n",
       "      <td>631815</td>\n",
       "      <td>NaN</td>\n",
       "      <td>NaN</td>\n",
       "      <td>115915</td>\n",
       "      <td>NaN</td>\n",
       "    </tr>\n",
       "    <tr>\n",
       "      <th>mean</th>\n",
       "      <td>2.208217e+06</td>\n",
       "      <td>NaN</td>\n",
       "      <td>2.017178e+03</td>\n",
       "      <td>NaN</td>\n",
       "      <td>1.574419e+01</td>\n",
       "      <td>NaN</td>\n",
       "      <td>1.146884e+01</td>\n",
       "      <td>2.681503e+01</td>\n",
       "      <td>NaN</td>\n",
       "      <td>4.967301e+02</td>\n",
       "    </tr>\n",
       "    <tr>\n",
       "      <th>std</th>\n",
       "      <td>1.275353e+06</td>\n",
       "      <td>NaN</td>\n",
       "      <td>3.535223e+00</td>\n",
       "      <td>NaN</td>\n",
       "      <td>8.798473e+00</td>\n",
       "      <td>NaN</td>\n",
       "      <td>6.938772e+00</td>\n",
       "      <td>1.937028e+01</td>\n",
       "      <td>NaN</td>\n",
       "      <td>7.530344e+02</td>\n",
       "    </tr>\n",
       "    <tr>\n",
       "      <th>min</th>\n",
       "      <td>1.000000e+00</td>\n",
       "      <td>NaN</td>\n",
       "      <td>2.009000e+03</td>\n",
       "      <td>NaN</td>\n",
       "      <td>1.000000e+00</td>\n",
       "      <td>NaN</td>\n",
       "      <td>0.000000e+00</td>\n",
       "      <td>1.000000e+00</td>\n",
       "      <td>NaN</td>\n",
       "      <td>0.000000e+00</td>\n",
       "    </tr>\n",
       "    <tr>\n",
       "      <th>25%</th>\n",
       "      <td>1.103894e+06</td>\n",
       "      <td>NaN</td>\n",
       "      <td>2.015000e+03</td>\n",
       "      <td>NaN</td>\n",
       "      <td>8.000000e+00</td>\n",
       "      <td>NaN</td>\n",
       "      <td>5.000000e+00</td>\n",
       "      <td>1.000000e+01</td>\n",
       "      <td>NaN</td>\n",
       "      <td>4.300000e+01</td>\n",
       "    </tr>\n",
       "    <tr>\n",
       "      <th>50%</th>\n",
       "      <td>2.207788e+06</td>\n",
       "      <td>NaN</td>\n",
       "      <td>2.018000e+03</td>\n",
       "      <td>NaN</td>\n",
       "      <td>1.600000e+01</td>\n",
       "      <td>NaN</td>\n",
       "      <td>1.100000e+01</td>\n",
       "      <td>2.300000e+01</td>\n",
       "      <td>NaN</td>\n",
       "      <td>1.780000e+02</td>\n",
       "    </tr>\n",
       "    <tr>\n",
       "      <th>75%</th>\n",
       "      <td>3.311681e+06</td>\n",
       "      <td>NaN</td>\n",
       "      <td>2.020000e+03</td>\n",
       "      <td>NaN</td>\n",
       "      <td>2.300000e+01</td>\n",
       "      <td>NaN</td>\n",
       "      <td>1.700000e+01</td>\n",
       "      <td>4.000000e+01</td>\n",
       "      <td>NaN</td>\n",
       "      <td>6.070000e+02</td>\n",
       "    </tr>\n",
       "    <tr>\n",
       "      <th>max</th>\n",
       "      <td>4.421045e+06</td>\n",
       "      <td>NaN</td>\n",
       "      <td>2.022000e+03</td>\n",
       "      <td>NaN</td>\n",
       "      <td>3.100000e+01</td>\n",
       "      <td>NaN</td>\n",
       "      <td>2.300000e+01</td>\n",
       "      <td>8.700000e+01</td>\n",
       "      <td>NaN</td>\n",
       "      <td>1.597900e+04</td>\n",
       "    </tr>\n",
       "  </tbody>\n",
       "</table>\n",
       "</div>"
      ],
      "text/plain": [
       "                  ID                       Date_Time          Year    Month  \\\n",
       "count   4.415574e+06                         4415574  4.415574e+06  4415574   \n",
       "unique           NaN                          115465           NaN       12   \n",
       "top              NaN  September 16, 2010 12:00:00 AM           NaN     July   \n",
       "freq             NaN                             408           NaN   397510   \n",
       "mean    2.208217e+06                             NaN  2.017178e+03      NaN   \n",
       "std     1.275353e+06                             NaN  3.535223e+00      NaN   \n",
       "min     1.000000e+00                             NaN  2.009000e+03      NaN   \n",
       "25%     1.103894e+06                             NaN  2.015000e+03      NaN   \n",
       "50%     2.207788e+06                             NaN  2.018000e+03      NaN   \n",
       "75%     3.311681e+06                             NaN  2.020000e+03      NaN   \n",
       "max     4.421045e+06                             NaN  2.022000e+03      NaN   \n",
       "\n",
       "               Mdate       Day          Time     Sensor_ID  \\\n",
       "count   4.415574e+06   4415574  4.415574e+06  4.415574e+06   \n",
       "unique           NaN         7           NaN           NaN   \n",
       "top              NaN  Saturday           NaN           NaN   \n",
       "freq             NaN    631815           NaN           NaN   \n",
       "mean    1.574419e+01       NaN  1.146884e+01  2.681503e+01   \n",
       "std     8.798473e+00       NaN  6.938772e+00  1.937028e+01   \n",
       "min     1.000000e+00       NaN  0.000000e+00  1.000000e+00   \n",
       "25%     8.000000e+00       NaN  5.000000e+00  1.000000e+01   \n",
       "50%     1.600000e+01       NaN  1.100000e+01  2.300000e+01   \n",
       "75%     2.300000e+01       NaN  1.700000e+01  4.000000e+01   \n",
       "max     3.100000e+01       NaN  2.300000e+01  8.700000e+01   \n",
       "\n",
       "                       Sensor_Name  Hourly_Counts  \n",
       "count                      4415574   4.415574e+06  \n",
       "unique                          94            NaN  \n",
       "top     Bourke Street Mall (South)            NaN  \n",
       "freq                        115915            NaN  \n",
       "mean                           NaN   4.967301e+02  \n",
       "std                            NaN   7.530344e+02  \n",
       "min                            NaN   0.000000e+00  \n",
       "25%                            NaN   4.300000e+01  \n",
       "50%                            NaN   1.780000e+02  \n",
       "75%                            NaN   6.070000e+02  \n",
       "max                            NaN   1.597900e+04  "
      ]
     },
     "execution_count": 6,
     "metadata": {},
     "output_type": "execute_result"
    }
   ],
   "source": [
    "#Review dataframe - data profiling\n",
    "df.describe(include='all')"
   ]
  },
  {
   "cell_type": "code",
   "execution_count": 7,
   "id": "ae230184",
   "metadata": {},
   "outputs": [
    {
     "data": {
      "text/plain": [
       "4415574"
      ]
     },
     "execution_count": 7,
     "metadata": {},
     "output_type": "execute_result"
    }
   ],
   "source": [
    "#Review dataframe - total row count\n",
    "df.shape[0]"
   ]
  },
  {
   "cell_type": "code",
   "execution_count": 8,
   "id": "a6c7ddd5",
   "metadata": {},
   "outputs": [
    {
     "data": {
      "text/plain": [
       "10"
      ]
     },
     "execution_count": 8,
     "metadata": {},
     "output_type": "execute_result"
    }
   ],
   "source": [
    "#Review dataframe - total column count\n",
    "df.shape[1]"
   ]
  },
  {
   "cell_type": "code",
   "execution_count": 9,
   "id": "16e2435b",
   "metadata": {},
   "outputs": [
    {
     "data": {
      "text/plain": [
       "ID               4415574\n",
       "Date_Time         115465\n",
       "Year                  14\n",
       "Month                 12\n",
       "Mdate                 31\n",
       "Day                    7\n",
       "Time                  24\n",
       "Sensor_ID             82\n",
       "Sensor_Name           94\n",
       "Hourly_Counts       6410\n",
       "dtype: int64"
      ]
     },
     "execution_count": 9,
     "metadata": {},
     "output_type": "execute_result"
    }
   ],
   "source": [
    "#Review data - check uniqueness in column values\n",
    "df.nunique()"
   ]
  },
  {
   "cell_type": "code",
   "execution_count": 10,
   "id": "bcbd4a9b",
   "metadata": {},
   "outputs": [],
   "source": [
    "#From above result looks like sensor id and sensor name need investigation.\n",
    "#Investigation needed to understand why sensor id and sensor name count do not match up\n",
    "\n",
    "## To make the investigation quick, creating a new col in df with val concat of Sensor_ID and Sensor_Name\n",
    "## Display unique val of the new col and check what is the reason behind mismatch between those columns"
   ]
  },
  {
   "cell_type": "code",
   "execution_count": 11,
   "id": "8945d418",
   "metadata": {},
   "outputs": [],
   "source": [
    "#issue investigation - creating a new col in df with val concat of Sensor_ID and Sensor_Name\n",
    "df['tmpcol'] = df[\"Sensor_ID\"].astype(str) + df[\"Sensor_Name\"]"
   ]
  },
  {
   "cell_type": "code",
   "execution_count": 12,
   "id": "8551b47f",
   "metadata": {},
   "outputs": [
    {
     "data": {
      "text/plain": [
       "array(['34Flinders St-Spark La', '39Alfred Place', '37Lygon St (East)',\n",
       "       '40Lonsdale St-Spring St (West)', '36Queen St (West)',\n",
       "       '29St Kilda Rd-Alexandra Gardens',\n",
       "       '42Grattan St-Swanston St (West)',\n",
       "       '43Monash Rd-Swanston St (West)', '44Tin Alley-Swanston St (West)',\n",
       "       '35Southbank', '45Little Collins St-Swanston St (East)',\n",
       "       '46Pelham St (S)', '47Melbourne Central-Elizabeth St (East)',\n",
       "       '48QVM-Queen St (East)', '49QVM-Therry St (South)',\n",
       "       '50Faraday St-Lygon St (West)', '51QVM-Franklin St (North)',\n",
       "       '52Elizabeth St-Lonsdale St (South)', '54Lincoln-Swanston(West)',\n",
       "       '55Elizabeth St-La Trobe St (East)',\n",
       "       '56Lonsdale St - Elizabeth St (North)', '57Bourke St Bridge',\n",
       "       '58Bourke St - Spencer St (North)',\n",
       "       '59Swanston St - RMIT Building 80',\n",
       "       '61Swanston St - RMIT Building 14', '62La Trobe St (North)',\n",
       "       '4Town Hall (West)', '17Collins Place (South)',\n",
       "       '18Collins Place (North)', '53Collins St (North)',\n",
       "       '2Bourke Street Mall (South)', '1Bourke Street Mall (North)',\n",
       "       '3Melbourne Central', '15State Library', '9Southern Cross Station',\n",
       "       '10Victoria Point', '12New Quay', '11Waterfront City',\n",
       "       '8Webb Bridge', '7Birrarung Marr', '5Princes Bridge',\n",
       "       '6Flinders Street Station Underpass', '14Sandridge Bridge',\n",
       "       '26QV Market-Elizabeth St (West)',\n",
       "       '24Spencer St-Collins St (North)',\n",
       "       '23Spencer St-Collins St (South)',\n",
       "       '25Melbourne Convention Exhibition Centre',\n",
       "       '21Bourke St-Russell St (West)',\n",
       "       '20Chinatown-Lt Bourke St (South)',\n",
       "       '19Chinatown-Swanston St (North)',\n",
       "       '22Flinders St-Elizabeth St (East)', '27QV Market-Peel St',\n",
       "       '28The Arts Centre', '31Lygon St (West)', '30Lonsdale St (South)',\n",
       "       '41Flinders La-Swanston St (West)', '13Flagstaff Station',\n",
       "       '16Australia on Collins', '66State Library - New', '32City Square',\n",
       "       '33Flinders St-Spring St (West)',\n",
       "       '38Flinders St-Swanston St (West)', '46Pelham St (South)',\n",
       "       '54Lincoln-Swanston (West)',\n",
       "       '60Flinders La - Swanston St (West) Temp',\n",
       "       '60Flinders la - Swanston St (West) Temp', '63231 Bourke St',\n",
       "       '64Royal Pde-Grattan St', '65Swanston St - City Square',\n",
       "       '66State Library-New', '67Flinders Ln -Degraves St (South)',\n",
       "       '68Flinders Ln -Degraves St (North)',\n",
       "       '69Flinders Ln -Degraves St (Crossing)', '70Errol Street (East)',\n",
       "       '71Westwood Place', '73Bourke St - Spencer St (South)',\n",
       "       '72Flinders St-ACMI', '75Spring St- Flinders St (West)',\n",
       "       '76Macaulay Rd-Bellair St',\n",
       "       '77Harbour Esplanade (West) - Pedestrian Pa',\n",
       "       '78Harbour Esplanade (West) - Bike Path',\n",
       "       '77Harbour Esplanade (West) - Ped Path', '79Flinders St (South)',\n",
       "       '64Royal Pde - Grattan St',\n",
       "       '69Flinders Ln - Degraves St (Crossing)',\n",
       "       '68Flinders Ln - Degraves St (North)',\n",
       "       '67Flinders Ln - Degraves St (South)', '72Flinders St - ACMI',\n",
       "       '75Spring St - Flinders St (West)', '76Macaulay Rd - Bellair St',\n",
       "       '84Elizabeth St - Flinders St (East) - New footpath',\n",
       "       '85Macaulay Rd (North)', '86Queensberry St - Errol St (South)',\n",
       "       '87Errol St (West)'], dtype=object)"
      ]
     },
     "execution_count": 12,
     "metadata": {},
     "output_type": "execute_result"
    }
   ],
   "source": [
    "#issue investigation - creating a new col in df with val concat of Sensor_ID and Sensor_Name\n",
    "## Display unique val of the new col\n",
    "df.tmpcol.unique()"
   ]
  },
  {
   "cell_type": "code",
   "execution_count": 13,
   "id": "00776023",
   "metadata": {},
   "outputs": [],
   "source": [
    "#issue investigation - reason behind mismatch between sensor id and name columns\n",
    "## looks like some sensor name values are represented in different formats. DQ issue identified\n",
    "## for ex.. Spring St - Flinders St (West) vs Spring St- Flinders St (West)\n",
    "##          Harbour Esplanade (West) - Ped Path vs Harbour Esplanade (West) - Pedestrian Pa\n",
    "\n",
    "# To fix the DQ issue quickly, just going to standardise the values by find and replace the specific sensor names only          \n",
    "## in total for 12 sensor ids - 46, 54, 64, 60, 69, 68, 67, 66, 72, 77,76,75"
   ]
  },
  {
   "cell_type": "code",
   "execution_count": 14,
   "id": "f923fd33",
   "metadata": {},
   "outputs": [],
   "source": [
    "#DQ fix - fetch the sensor ids that need to be fixed\n",
    "dq_sid_46 = df['Sensor_ID'] == 46\n",
    "dq_sid_54 = df['Sensor_ID'] == 54\n",
    "dq_sid_64 = df['Sensor_ID'] == 64\n",
    "dq_sid_60 = df['Sensor_ID'] == 60\n",
    "dq_sid_69 = df['Sensor_ID'] == 69\n",
    "dq_sid_68 = df['Sensor_ID'] == 68\n",
    "dq_sid_67 = df['Sensor_ID'] == 67\n",
    "dq_sid_66 = df['Sensor_ID'] == 66\n",
    "dq_sid_72 = df['Sensor_ID'] == 72\n",
    "dq_sid_77 = df['Sensor_ID'] == 77\n",
    "dq_sid_76 = df['Sensor_ID'] == 76\n",
    "dq_sid_75 = df['Sensor_ID'] == 75"
   ]
  },
  {
   "cell_type": "code",
   "execution_count": 15,
   "id": "d22147ef",
   "metadata": {},
   "outputs": [],
   "source": [
    "#DQ fix - update sensor names for the sensor ids that need to be fixed\n",
    "df.loc[dq_sid_46, 'Sensor_Name'] = 'Pelham St (South)'\n",
    "df.loc[dq_sid_54, 'Sensor_Name'] = 'Lincoln-Swanston (West)'\n",
    "df.loc[dq_sid_64, 'Sensor_Name'] = 'Royal Pde - Grattan St'\n",
    "df.loc[dq_sid_60, 'Sensor_Name'] = 'Flinders La - Swanston St (West) Temp'\n",
    "df.loc[dq_sid_69, 'Sensor_Name'] = 'Flinders Ln - Degraves St (Crossing)'\n",
    "df.loc[dq_sid_68, 'Sensor_Name'] = 'Flinders Ln - Degraves St (North)'\n",
    "df.loc[dq_sid_67, 'Sensor_Name'] = 'Flinders Ln - Degraves St (South)'\n",
    "df.loc[dq_sid_66, 'Sensor_Name'] = 'State Library - New'\n",
    "df.loc[dq_sid_72, 'Sensor_Name'] = 'Flinders St - ACMI'\n",
    "df.loc[dq_sid_77, 'Sensor_Name'] = 'Harbour Esplanade (West) - Pedestrian Pa'\n",
    "df.loc[dq_sid_76, 'Sensor_Name'] = 'Macaulay Rd - Bellair St'\n",
    "df.loc[dq_sid_75, 'Sensor_Name'] = 'Spring St - Flinders St (West)'"
   ]
  },
  {
   "cell_type": "code",
   "execution_count": 16,
   "id": "350d86b6",
   "metadata": {},
   "outputs": [
    {
     "data": {
      "text/plain": [
       "ID               4415574\n",
       "Date_Time         115465\n",
       "Year                  14\n",
       "Month                 12\n",
       "Mdate                 31\n",
       "Day                    7\n",
       "Time                  24\n",
       "Sensor_ID             82\n",
       "Sensor_Name           82\n",
       "Hourly_Counts       6410\n",
       "tmpcol                94\n",
       "dtype: int64"
      ]
     },
     "execution_count": 16,
     "metadata": {},
     "output_type": "execute_result"
    }
   ],
   "source": [
    "#DQ fix - checking whether sensor id and name count matches after the fix\n",
    "df.nunique()"
   ]
  },
  {
   "cell_type": "code",
   "execution_count": 17,
   "id": "02920a86",
   "metadata": {},
   "outputs": [],
   "source": [
    "#DQ fix - issue fixed asp er the above result and deleting the tmp col for consistency\n",
    "df= df.drop(columns=['tmpcol'])"
   ]
  },
  {
   "cell_type": "code",
   "execution_count": 18,
   "id": "0eb8954d",
   "metadata": {},
   "outputs": [],
   "source": [
    "#Review data - understand the grain of the data\n",
    "## from above data profiling ID col which is the reading id has unique value across the dataset\n",
    "## exploring the data - the grain of the data could be \n",
    "## hourly reading count for a given date time and a senor id (sensor name)....\n",
    "\n",
    "## checking to see any duplicates rows exist for a given date time, sensor id and name\n",
    "\n",
    "df_dup = df[df.duplicated(subset=['Date_Time','Sensor_ID','Sensor_Name'], keep=False)]"
   ]
  },
  {
   "cell_type": "code",
   "execution_count": 19,
   "id": "0936c937",
   "metadata": {},
   "outputs": [
    {
     "data": {
      "text/plain": [
       "12240"
      ]
     },
     "execution_count": 19,
     "metadata": {},
     "output_type": "execute_result"
    }
   ],
   "source": [
    "#Review data - understand the grain of the data\n",
    "df_dup.shape[0]"
   ]
  },
  {
   "cell_type": "code",
   "execution_count": 20,
   "id": "1271bcac",
   "metadata": {},
   "outputs": [
    {
     "data": {
      "text/html": [
       "<div>\n",
       "<style scoped>\n",
       "    .dataframe tbody tr th:only-of-type {\n",
       "        vertical-align: middle;\n",
       "    }\n",
       "\n",
       "    .dataframe tbody tr th {\n",
       "        vertical-align: top;\n",
       "    }\n",
       "\n",
       "    .dataframe thead th {\n",
       "        text-align: right;\n",
       "    }\n",
       "</style>\n",
       "<table border=\"1\" class=\"dataframe\">\n",
       "  <thead>\n",
       "    <tr style=\"text-align: right;\">\n",
       "      <th></th>\n",
       "      <th>ID</th>\n",
       "      <th>Date_Time</th>\n",
       "      <th>Year</th>\n",
       "      <th>Month</th>\n",
       "      <th>Mdate</th>\n",
       "      <th>Day</th>\n",
       "      <th>Time</th>\n",
       "      <th>Sensor_ID</th>\n",
       "      <th>Sensor_Name</th>\n",
       "      <th>Hourly_Counts</th>\n",
       "    </tr>\n",
       "  </thead>\n",
       "  <tbody>\n",
       "    <tr>\n",
       "      <th>240666</th>\n",
       "      <td>205729</td>\n",
       "      <td>September 01, 2010 12:00:00 AM</td>\n",
       "      <td>2010</td>\n",
       "      <td>September</td>\n",
       "      <td>1</td>\n",
       "      <td>Wednesday</td>\n",
       "      <td>0</td>\n",
       "      <td>1</td>\n",
       "      <td>Bourke Street Mall (North)</td>\n",
       "      <td>28</td>\n",
       "    </tr>\n",
       "    <tr>\n",
       "      <th>240667</th>\n",
       "      <td>205730</td>\n",
       "      <td>September 01, 2010 12:00:00 AM</td>\n",
       "      <td>2010</td>\n",
       "      <td>September</td>\n",
       "      <td>1</td>\n",
       "      <td>Wednesday</td>\n",
       "      <td>0</td>\n",
       "      <td>2</td>\n",
       "      <td>Bourke Street Mall (South)</td>\n",
       "      <td>49</td>\n",
       "    </tr>\n",
       "    <tr>\n",
       "      <th>240668</th>\n",
       "      <td>205731</td>\n",
       "      <td>September 01, 2010 12:00:00 AM</td>\n",
       "      <td>2010</td>\n",
       "      <td>September</td>\n",
       "      <td>1</td>\n",
       "      <td>Wednesday</td>\n",
       "      <td>0</td>\n",
       "      <td>3</td>\n",
       "      <td>Melbourne Central</td>\n",
       "      <td>77</td>\n",
       "    </tr>\n",
       "    <tr>\n",
       "      <th>240669</th>\n",
       "      <td>205732</td>\n",
       "      <td>September 01, 2010 12:00:00 AM</td>\n",
       "      <td>2010</td>\n",
       "      <td>September</td>\n",
       "      <td>1</td>\n",
       "      <td>Wednesday</td>\n",
       "      <td>0</td>\n",
       "      <td>4</td>\n",
       "      <td>Town Hall (West)</td>\n",
       "      <td>110</td>\n",
       "    </tr>\n",
       "    <tr>\n",
       "      <th>240670</th>\n",
       "      <td>205733</td>\n",
       "      <td>September 01, 2010 12:00:00 AM</td>\n",
       "      <td>2010</td>\n",
       "      <td>September</td>\n",
       "      <td>1</td>\n",
       "      <td>Wednesday</td>\n",
       "      <td>0</td>\n",
       "      <td>5</td>\n",
       "      <td>Princes Bridge</td>\n",
       "      <td>66</td>\n",
       "    </tr>\n",
       "  </tbody>\n",
       "</table>\n",
       "</div>"
      ],
      "text/plain": [
       "            ID                       Date_Time  Year      Month  Mdate  \\\n",
       "240666  205729  September 01, 2010 12:00:00 AM  2010  September      1   \n",
       "240667  205730  September 01, 2010 12:00:00 AM  2010  September      1   \n",
       "240668  205731  September 01, 2010 12:00:00 AM  2010  September      1   \n",
       "240669  205732  September 01, 2010 12:00:00 AM  2010  September      1   \n",
       "240670  205733  September 01, 2010 12:00:00 AM  2010  September      1   \n",
       "\n",
       "              Day  Time  Sensor_ID                 Sensor_Name  Hourly_Counts  \n",
       "240666  Wednesday     0          1  Bourke Street Mall (North)             28  \n",
       "240667  Wednesday     0          2  Bourke Street Mall (South)             49  \n",
       "240668  Wednesday     0          3           Melbourne Central             77  \n",
       "240669  Wednesday     0          4            Town Hall (West)            110  \n",
       "240670  Wednesday     0          5              Princes Bridge             66  "
      ]
     },
     "execution_count": 20,
     "metadata": {},
     "output_type": "execute_result"
    }
   ],
   "source": [
    "#Review data - understand the grain of the data\n",
    "## duplicates rows exist for a given date time, sensor id and name\n",
    "\n",
    "## exploring the duplicates and understand the data\n",
    "df_dup.head()"
   ]
  },
  {
   "cell_type": "code",
   "execution_count": 21,
   "id": "8d8fb0c6",
   "metadata": {},
   "outputs": [
    {
     "data": {
      "text/html": [
       "<div>\n",
       "<style scoped>\n",
       "    .dataframe tbody tr th:only-of-type {\n",
       "        vertical-align: middle;\n",
       "    }\n",
       "\n",
       "    .dataframe tbody tr th {\n",
       "        vertical-align: top;\n",
       "    }\n",
       "\n",
       "    .dataframe thead th {\n",
       "        text-align: right;\n",
       "    }\n",
       "</style>\n",
       "<table border=\"1\" class=\"dataframe\">\n",
       "  <thead>\n",
       "    <tr style=\"text-align: right;\">\n",
       "      <th></th>\n",
       "      <th>ID</th>\n",
       "      <th>Date_Time</th>\n",
       "      <th>Year</th>\n",
       "      <th>Month</th>\n",
       "      <th>Mdate</th>\n",
       "      <th>Day</th>\n",
       "      <th>Time</th>\n",
       "      <th>Sensor_ID</th>\n",
       "      <th>Sensor_Name</th>\n",
       "      <th>Hourly_Counts</th>\n",
       "    </tr>\n",
       "  </thead>\n",
       "  <tbody>\n",
       "    <tr>\n",
       "      <th>240666</th>\n",
       "      <td>205729</td>\n",
       "      <td>September 01, 2010 12:00:00 AM</td>\n",
       "      <td>2010</td>\n",
       "      <td>September</td>\n",
       "      <td>1</td>\n",
       "      <td>Wednesday</td>\n",
       "      <td>0</td>\n",
       "      <td>1</td>\n",
       "      <td>Bourke Street Mall (North)</td>\n",
       "      <td>28</td>\n",
       "    </tr>\n",
       "    <tr>\n",
       "      <th>240683</th>\n",
       "      <td>205746</td>\n",
       "      <td>September 01, 2010 12:00:00 AM</td>\n",
       "      <td>2010</td>\n",
       "      <td>September</td>\n",
       "      <td>1</td>\n",
       "      <td>Wednesday</td>\n",
       "      <td>0</td>\n",
       "      <td>1</td>\n",
       "      <td>Bourke Street Mall (North)</td>\n",
       "      <td>77</td>\n",
       "    </tr>\n",
       "    <tr>\n",
       "      <th>240700</th>\n",
       "      <td>205763</td>\n",
       "      <td>September 01, 2010 12:00:00 AM</td>\n",
       "      <td>2010</td>\n",
       "      <td>September</td>\n",
       "      <td>1</td>\n",
       "      <td>Wednesday</td>\n",
       "      <td>0</td>\n",
       "      <td>1</td>\n",
       "      <td>Bourke Street Mall (North)</td>\n",
       "      <td>37</td>\n",
       "    </tr>\n",
       "    <tr>\n",
       "      <th>240717</th>\n",
       "      <td>205780</td>\n",
       "      <td>September 01, 2010 12:00:00 AM</td>\n",
       "      <td>2010</td>\n",
       "      <td>September</td>\n",
       "      <td>1</td>\n",
       "      <td>Wednesday</td>\n",
       "      <td>0</td>\n",
       "      <td>1</td>\n",
       "      <td>Bourke Street Mall (North)</td>\n",
       "      <td>4</td>\n",
       "    </tr>\n",
       "    <tr>\n",
       "      <th>240734</th>\n",
       "      <td>205797</td>\n",
       "      <td>September 01, 2010 12:00:00 AM</td>\n",
       "      <td>2010</td>\n",
       "      <td>September</td>\n",
       "      <td>1</td>\n",
       "      <td>Wednesday</td>\n",
       "      <td>0</td>\n",
       "      <td>1</td>\n",
       "      <td>Bourke Street Mall (North)</td>\n",
       "      <td>8</td>\n",
       "    </tr>\n",
       "    <tr>\n",
       "      <th>240751</th>\n",
       "      <td>205814</td>\n",
       "      <td>September 01, 2010 12:00:00 AM</td>\n",
       "      <td>2010</td>\n",
       "      <td>September</td>\n",
       "      <td>1</td>\n",
       "      <td>Wednesday</td>\n",
       "      <td>0</td>\n",
       "      <td>1</td>\n",
       "      <td>Bourke Street Mall (North)</td>\n",
       "      <td>23</td>\n",
       "    </tr>\n",
       "    <tr>\n",
       "      <th>240768</th>\n",
       "      <td>205831</td>\n",
       "      <td>September 01, 2010 12:00:00 AM</td>\n",
       "      <td>2010</td>\n",
       "      <td>September</td>\n",
       "      <td>1</td>\n",
       "      <td>Wednesday</td>\n",
       "      <td>0</td>\n",
       "      <td>1</td>\n",
       "      <td>Bourke Street Mall (North)</td>\n",
       "      <td>52</td>\n",
       "    </tr>\n",
       "    <tr>\n",
       "      <th>240785</th>\n",
       "      <td>205848</td>\n",
       "      <td>September 01, 2010 12:00:00 AM</td>\n",
       "      <td>2010</td>\n",
       "      <td>September</td>\n",
       "      <td>1</td>\n",
       "      <td>Wednesday</td>\n",
       "      <td>0</td>\n",
       "      <td>1</td>\n",
       "      <td>Bourke Street Mall (North)</td>\n",
       "      <td>162</td>\n",
       "    </tr>\n",
       "    <tr>\n",
       "      <th>240802</th>\n",
       "      <td>205865</td>\n",
       "      <td>September 01, 2010 12:00:00 AM</td>\n",
       "      <td>2010</td>\n",
       "      <td>September</td>\n",
       "      <td>1</td>\n",
       "      <td>Wednesday</td>\n",
       "      <td>0</td>\n",
       "      <td>1</td>\n",
       "      <td>Bourke Street Mall (North)</td>\n",
       "      <td>444</td>\n",
       "    </tr>\n",
       "    <tr>\n",
       "      <th>240819</th>\n",
       "      <td>205882</td>\n",
       "      <td>September 01, 2010 12:00:00 AM</td>\n",
       "      <td>2010</td>\n",
       "      <td>September</td>\n",
       "      <td>1</td>\n",
       "      <td>Wednesday</td>\n",
       "      <td>0</td>\n",
       "      <td>1</td>\n",
       "      <td>Bourke Street Mall (North)</td>\n",
       "      <td>654</td>\n",
       "    </tr>\n",
       "    <tr>\n",
       "      <th>240836</th>\n",
       "      <td>205899</td>\n",
       "      <td>September 01, 2010 12:00:00 AM</td>\n",
       "      <td>2010</td>\n",
       "      <td>September</td>\n",
       "      <td>1</td>\n",
       "      <td>Wednesday</td>\n",
       "      <td>0</td>\n",
       "      <td>1</td>\n",
       "      <td>Bourke Street Mall (North)</td>\n",
       "      <td>892</td>\n",
       "    </tr>\n",
       "    <tr>\n",
       "      <th>240853</th>\n",
       "      <td>205916</td>\n",
       "      <td>September 01, 2010 12:00:00 AM</td>\n",
       "      <td>2010</td>\n",
       "      <td>September</td>\n",
       "      <td>1</td>\n",
       "      <td>Wednesday</td>\n",
       "      <td>0</td>\n",
       "      <td>1</td>\n",
       "      <td>Bourke Street Mall (North)</td>\n",
       "      <td>1125</td>\n",
       "    </tr>\n",
       "    <tr>\n",
       "      <th>240870</th>\n",
       "      <td>205933</td>\n",
       "      <td>September 01, 2010 12:00:00 AM</td>\n",
       "      <td>2010</td>\n",
       "      <td>September</td>\n",
       "      <td>1</td>\n",
       "      <td>Wednesday</td>\n",
       "      <td>0</td>\n",
       "      <td>1</td>\n",
       "      <td>Bourke Street Mall (North)</td>\n",
       "      <td>1712</td>\n",
       "    </tr>\n",
       "    <tr>\n",
       "      <th>240887</th>\n",
       "      <td>205950</td>\n",
       "      <td>September 01, 2010 12:00:00 AM</td>\n",
       "      <td>2010</td>\n",
       "      <td>September</td>\n",
       "      <td>1</td>\n",
       "      <td>Wednesday</td>\n",
       "      <td>0</td>\n",
       "      <td>1</td>\n",
       "      <td>Bourke Street Mall (North)</td>\n",
       "      <td>2184</td>\n",
       "    </tr>\n",
       "    <tr>\n",
       "      <th>240904</th>\n",
       "      <td>205967</td>\n",
       "      <td>September 01, 2010 12:00:00 AM</td>\n",
       "      <td>2010</td>\n",
       "      <td>September</td>\n",
       "      <td>1</td>\n",
       "      <td>Wednesday</td>\n",
       "      <td>0</td>\n",
       "      <td>1</td>\n",
       "      <td>Bourke Street Mall (North)</td>\n",
       "      <td>1637</td>\n",
       "    </tr>\n",
       "    <tr>\n",
       "      <th>240921</th>\n",
       "      <td>205984</td>\n",
       "      <td>September 01, 2010 12:00:00 AM</td>\n",
       "      <td>2010</td>\n",
       "      <td>September</td>\n",
       "      <td>1</td>\n",
       "      <td>Wednesday</td>\n",
       "      <td>0</td>\n",
       "      <td>1</td>\n",
       "      <td>Bourke Street Mall (North)</td>\n",
       "      <td>1469</td>\n",
       "    </tr>\n",
       "    <tr>\n",
       "      <th>240938</th>\n",
       "      <td>206001</td>\n",
       "      <td>September 01, 2010 12:00:00 AM</td>\n",
       "      <td>2010</td>\n",
       "      <td>September</td>\n",
       "      <td>1</td>\n",
       "      <td>Wednesday</td>\n",
       "      <td>0</td>\n",
       "      <td>1</td>\n",
       "      <td>Bourke Street Mall (North)</td>\n",
       "      <td>1707</td>\n",
       "    </tr>\n",
       "    <tr>\n",
       "      <th>240955</th>\n",
       "      <td>206018</td>\n",
       "      <td>September 01, 2010 12:00:00 AM</td>\n",
       "      <td>2010</td>\n",
       "      <td>September</td>\n",
       "      <td>1</td>\n",
       "      <td>Wednesday</td>\n",
       "      <td>0</td>\n",
       "      <td>1</td>\n",
       "      <td>Bourke Street Mall (North)</td>\n",
       "      <td>1640</td>\n",
       "    </tr>\n",
       "    <tr>\n",
       "      <th>240972</th>\n",
       "      <td>206035</td>\n",
       "      <td>September 01, 2010 12:00:00 AM</td>\n",
       "      <td>2010</td>\n",
       "      <td>September</td>\n",
       "      <td>1</td>\n",
       "      <td>Wednesday</td>\n",
       "      <td>0</td>\n",
       "      <td>1</td>\n",
       "      <td>Bourke Street Mall (North)</td>\n",
       "      <td>1023</td>\n",
       "    </tr>\n",
       "    <tr>\n",
       "      <th>240989</th>\n",
       "      <td>206052</td>\n",
       "      <td>September 01, 2010 12:00:00 AM</td>\n",
       "      <td>2010</td>\n",
       "      <td>September</td>\n",
       "      <td>1</td>\n",
       "      <td>Wednesday</td>\n",
       "      <td>0</td>\n",
       "      <td>1</td>\n",
       "      <td>Bourke Street Mall (North)</td>\n",
       "      <td>637</td>\n",
       "    </tr>\n",
       "    <tr>\n",
       "      <th>241006</th>\n",
       "      <td>206069</td>\n",
       "      <td>September 01, 2010 12:00:00 AM</td>\n",
       "      <td>2010</td>\n",
       "      <td>September</td>\n",
       "      <td>1</td>\n",
       "      <td>Wednesday</td>\n",
       "      <td>0</td>\n",
       "      <td>1</td>\n",
       "      <td>Bourke Street Mall (North)</td>\n",
       "      <td>290</td>\n",
       "    </tr>\n",
       "    <tr>\n",
       "      <th>241023</th>\n",
       "      <td>206086</td>\n",
       "      <td>September 01, 2010 12:00:00 AM</td>\n",
       "      <td>2010</td>\n",
       "      <td>September</td>\n",
       "      <td>1</td>\n",
       "      <td>Wednesday</td>\n",
       "      <td>0</td>\n",
       "      <td>1</td>\n",
       "      <td>Bourke Street Mall (North)</td>\n",
       "      <td>176</td>\n",
       "    </tr>\n",
       "    <tr>\n",
       "      <th>241040</th>\n",
       "      <td>206103</td>\n",
       "      <td>September 01, 2010 12:00:00 AM</td>\n",
       "      <td>2010</td>\n",
       "      <td>September</td>\n",
       "      <td>1</td>\n",
       "      <td>Wednesday</td>\n",
       "      <td>0</td>\n",
       "      <td>1</td>\n",
       "      <td>Bourke Street Mall (North)</td>\n",
       "      <td>150</td>\n",
       "    </tr>\n",
       "    <tr>\n",
       "      <th>241057</th>\n",
       "      <td>206120</td>\n",
       "      <td>September 01, 2010 12:00:00 AM</td>\n",
       "      <td>2010</td>\n",
       "      <td>September</td>\n",
       "      <td>1</td>\n",
       "      <td>Wednesday</td>\n",
       "      <td>0</td>\n",
       "      <td>1</td>\n",
       "      <td>Bourke Street Mall (North)</td>\n",
       "      <td>80</td>\n",
       "    </tr>\n",
       "  </tbody>\n",
       "</table>\n",
       "</div>"
      ],
      "text/plain": [
       "            ID                       Date_Time  Year      Month  Mdate  \\\n",
       "240666  205729  September 01, 2010 12:00:00 AM  2010  September      1   \n",
       "240683  205746  September 01, 2010 12:00:00 AM  2010  September      1   \n",
       "240700  205763  September 01, 2010 12:00:00 AM  2010  September      1   \n",
       "240717  205780  September 01, 2010 12:00:00 AM  2010  September      1   \n",
       "240734  205797  September 01, 2010 12:00:00 AM  2010  September      1   \n",
       "240751  205814  September 01, 2010 12:00:00 AM  2010  September      1   \n",
       "240768  205831  September 01, 2010 12:00:00 AM  2010  September      1   \n",
       "240785  205848  September 01, 2010 12:00:00 AM  2010  September      1   \n",
       "240802  205865  September 01, 2010 12:00:00 AM  2010  September      1   \n",
       "240819  205882  September 01, 2010 12:00:00 AM  2010  September      1   \n",
       "240836  205899  September 01, 2010 12:00:00 AM  2010  September      1   \n",
       "240853  205916  September 01, 2010 12:00:00 AM  2010  September      1   \n",
       "240870  205933  September 01, 2010 12:00:00 AM  2010  September      1   \n",
       "240887  205950  September 01, 2010 12:00:00 AM  2010  September      1   \n",
       "240904  205967  September 01, 2010 12:00:00 AM  2010  September      1   \n",
       "240921  205984  September 01, 2010 12:00:00 AM  2010  September      1   \n",
       "240938  206001  September 01, 2010 12:00:00 AM  2010  September      1   \n",
       "240955  206018  September 01, 2010 12:00:00 AM  2010  September      1   \n",
       "240972  206035  September 01, 2010 12:00:00 AM  2010  September      1   \n",
       "240989  206052  September 01, 2010 12:00:00 AM  2010  September      1   \n",
       "241006  206069  September 01, 2010 12:00:00 AM  2010  September      1   \n",
       "241023  206086  September 01, 2010 12:00:00 AM  2010  September      1   \n",
       "241040  206103  September 01, 2010 12:00:00 AM  2010  September      1   \n",
       "241057  206120  September 01, 2010 12:00:00 AM  2010  September      1   \n",
       "\n",
       "              Day  Time  Sensor_ID                 Sensor_Name  Hourly_Counts  \n",
       "240666  Wednesday     0          1  Bourke Street Mall (North)             28  \n",
       "240683  Wednesday     0          1  Bourke Street Mall (North)             77  \n",
       "240700  Wednesday     0          1  Bourke Street Mall (North)             37  \n",
       "240717  Wednesday     0          1  Bourke Street Mall (North)              4  \n",
       "240734  Wednesday     0          1  Bourke Street Mall (North)              8  \n",
       "240751  Wednesday     0          1  Bourke Street Mall (North)             23  \n",
       "240768  Wednesday     0          1  Bourke Street Mall (North)             52  \n",
       "240785  Wednesday     0          1  Bourke Street Mall (North)            162  \n",
       "240802  Wednesday     0          1  Bourke Street Mall (North)            444  \n",
       "240819  Wednesday     0          1  Bourke Street Mall (North)            654  \n",
       "240836  Wednesday     0          1  Bourke Street Mall (North)            892  \n",
       "240853  Wednesday     0          1  Bourke Street Mall (North)           1125  \n",
       "240870  Wednesday     0          1  Bourke Street Mall (North)           1712  \n",
       "240887  Wednesday     0          1  Bourke Street Mall (North)           2184  \n",
       "240904  Wednesday     0          1  Bourke Street Mall (North)           1637  \n",
       "240921  Wednesday     0          1  Bourke Street Mall (North)           1469  \n",
       "240938  Wednesday     0          1  Bourke Street Mall (North)           1707  \n",
       "240955  Wednesday     0          1  Bourke Street Mall (North)           1640  \n",
       "240972  Wednesday     0          1  Bourke Street Mall (North)           1023  \n",
       "240989  Wednesday     0          1  Bourke Street Mall (North)            637  \n",
       "241006  Wednesday     0          1  Bourke Street Mall (North)            290  \n",
       "241023  Wednesday     0          1  Bourke Street Mall (North)            176  \n",
       "241040  Wednesday     0          1  Bourke Street Mall (North)            150  \n",
       "241057  Wednesday     0          1  Bourke Street Mall (North)             80  "
      ]
     },
     "execution_count": 21,
     "metadata": {},
     "output_type": "execute_result"
    }
   ],
   "source": [
    "#Review data - understand the grain of the data\n",
    "## duplicates rows exist for a given date time, sensor id and name\n",
    "\n",
    "## exploring the duplicates and understand the data \n",
    "\n",
    "## narrow down the investigation for a single pattern of duplicate - from above result\n",
    "\n",
    "df_dup_chek = df[(df['Date_Time']=='September 01, 2010 12:00:00 AM') & (df['Sensor_ID']==1) & (df['Sensor_Name']=='Bourke Street Mall (North)')]\n",
    "df_dup_chek.head(100)"
   ]
  },
  {
   "cell_type": "code",
   "execution_count": 22,
   "id": "2737602d",
   "metadata": {},
   "outputs": [],
   "source": [
    "#Review data - understand the grain of the data\n",
    "## duplicates rows exist for a given date time, sensor id and name\n",
    "\n",
    "## from above result, getting multiple hourly counts for a give date time and sensor id\n",
    "\n",
    "## not enough information to handle these duplicates. So going to keep these rows and proceeding the analysis\n"
   ]
  },
  {
   "cell_type": "code",
   "execution_count": 23,
   "id": "de2be624",
   "metadata": {},
   "outputs": [
    {
     "data": {
      "text/plain": [
       "min          1\n",
       "max    4421045\n",
       "Name: ID, dtype: int64"
      ]
     },
     "execution_count": 23,
     "metadata": {},
     "output_type": "execute_result"
    }
   ],
   "source": [
    "# Doing some quick profiling on other columns in the data set below\n",
    "df['ID'].agg(['min', 'max'])"
   ]
  },
  {
   "cell_type": "code",
   "execution_count": 24,
   "id": "4dd8be03",
   "metadata": {},
   "outputs": [
    {
     "data": {
      "text/plain": [
       "False"
      ]
     },
     "execution_count": 24,
     "metadata": {},
     "output_type": "execute_result"
    }
   ],
   "source": [
    "df['ID'].duplicated().any()"
   ]
  },
  {
   "cell_type": "code",
   "execution_count": 25,
   "id": "51abeb29",
   "metadata": {},
   "outputs": [
    {
     "data": {
      "text/plain": [
       "min        April 01, 2010 01:00:00 AM\n",
       "max    September 30, 2021 12:00:00 PM\n",
       "Name: Date_Time, dtype: object"
      ]
     },
     "execution_count": 25,
     "metadata": {},
     "output_type": "execute_result"
    }
   ],
   "source": [
    "df['Date_Time'].agg(['min', 'max'])"
   ]
  },
  {
   "cell_type": "code",
   "execution_count": 26,
   "id": "9c5079f0",
   "metadata": {},
   "outputs": [
    {
     "data": {
      "text/plain": [
       "min        0\n",
       "max    15979\n",
       "Name: Hourly_Counts, dtype: int64"
      ]
     },
     "execution_count": 26,
     "metadata": {},
     "output_type": "execute_result"
    }
   ],
   "source": [
    "df['Hourly_Counts'].agg(['min', 'max'])"
   ]
  },
  {
   "cell_type": "code",
   "execution_count": 27,
   "id": "db21085a",
   "metadata": {},
   "outputs": [
    {
     "data": {
      "text/plain": [
       "array([2019, 2022, 2009, 2010, 2011, 2012, 2013, 2014, 2015, 2016, 2017,\n",
       "       2018, 2020, 2021], dtype=int64)"
      ]
     },
     "execution_count": 27,
     "metadata": {},
     "output_type": "execute_result"
    }
   ],
   "source": [
    "df.Year.unique()"
   ]
  },
  {
   "cell_type": "code",
   "execution_count": 28,
   "id": "83d7c786",
   "metadata": {},
   "outputs": [
    {
     "data": {
      "text/plain": [
       "array([ 1,  5, 29,  2,  3,  4, 30,  6,  7,  8,  9, 10, 11, 12, 13, 14, 15,\n",
       "       16, 17, 18, 19, 20, 21, 22, 23, 24, 25, 26, 27, 28, 31],\n",
       "      dtype=int64)"
      ]
     },
     "execution_count": 28,
     "metadata": {},
     "output_type": "execute_result"
    }
   ],
   "source": [
    "df.Mdate.unique()"
   ]
  },
  {
   "cell_type": "code",
   "execution_count": 29,
   "id": "07ce8ab5",
   "metadata": {},
   "outputs": [
    {
     "data": {
      "text/plain": [
       "array(['November', 'April', 'September', 'October', 'May', 'July',\n",
       "       'December', 'August', 'June', 'January', 'February', 'March'],\n",
       "      dtype=object)"
      ]
     },
     "execution_count": 29,
     "metadata": {},
     "output_type": "execute_result"
    }
   ],
   "source": [
    "df.Month.unique()"
   ]
  },
  {
   "cell_type": "code",
   "execution_count": 30,
   "id": "5a5396e2",
   "metadata": {},
   "outputs": [
    {
     "data": {
      "text/plain": [
       "array(['Friday', 'Tuesday', 'Sunday', 'Saturday', 'Monday', 'Wednesday',\n",
       "       'Thursday'], dtype=object)"
      ]
     },
     "execution_count": 30,
     "metadata": {},
     "output_type": "execute_result"
    }
   ],
   "source": [
    "df.Day.unique()"
   ]
  },
  {
   "cell_type": "code",
   "execution_count": 31,
   "id": "3920ac73",
   "metadata": {},
   "outputs": [
    {
     "data": {
      "text/plain": [
       "array([17, 18, 19, 15, 20, 10, 21, 22, 23,  0,  1, 14,  2,  3,  4,  5,  6,\n",
       "        7,  8,  9, 11, 12, 13, 16], dtype=int64)"
      ]
     },
     "execution_count": 31,
     "metadata": {},
     "output_type": "execute_result"
    }
   ],
   "source": [
    "df.Time.unique()"
   ]
  },
  {
   "cell_type": "code",
   "execution_count": 32,
   "id": "8c21b5c6",
   "metadata": {},
   "outputs": [],
   "source": [
    "## Data profiling ends"
   ]
  },
  {
   "cell_type": "code",
   "execution_count": null,
   "id": "c2e74ae7",
   "metadata": {},
   "outputs": [],
   "source": [
    "# Unit Testing code to validate the expected outputs"
   ]
  },
  {
   "cell_type": "code",
   "execution_count": 33,
   "id": "c82c7b6b",
   "metadata": {},
   "outputs": [],
   "source": [
    "#function to return top ten pedestrian loc by day\n",
    "def top_pedestrain_loc_by_group(dataframe,colName):\n",
    "    #group by and get sum of pedestrians\n",
    "    df_agg = dataframe.groupby([colName,'Sensor_Name']).agg({'Hourly_Counts':sum})\n",
    "    #preparing aggregated df to get top N values    \n",
    "    g = df_agg['Hourly_Counts'].groupby(colName, group_keys=False)\n",
    "    #get top 10 values by pedestrian count\n",
    "    res =  g.nlargest(10)\n",
    "    \n",
    "    return res"
   ]
  },
  {
   "cell_type": "code",
   "execution_count": 34,
   "id": "98024037",
   "metadata": {},
   "outputs": [
    {
     "name": "stdout",
     "output_type": "stream",
     "text": [
      "Day        Sensor_Name                      \n",
      "Friday     Town Hall (West)                     24393876\n",
      "           Flinders Street Station Underpass    21320727\n",
      "           Melbourne Central                    19993700\n",
      "           Bourke Street Mall (South)           18881248\n",
      "           Princes Bridge                       18484231\n",
      "                                                  ...   \n",
      "Wednesday  Bourke Street Mall (North)           15112531\n",
      "           Spencer St-Collins St (North)        13004087\n",
      "           Flinders St-Elizabeth St (East)      12031778\n",
      "           State Library                        11000867\n",
      "           Flagstaff Station                    10553562\n",
      "Name: Hourly_Counts, Length: 70, dtype: int64\n"
     ]
    }
   ],
   "source": [
    "#Top 10 (most pedestrians) locations by day\n",
    "print(top_pedestrain_loc_by_group(df,'Day'))"
   ]
  },
  {
   "cell_type": "code",
   "execution_count": 35,
   "id": "4f7a02e5",
   "metadata": {},
   "outputs": [
    {
     "name": "stdout",
     "output_type": "stream",
     "text": [
      "Month      Sensor_Name                      \n",
      "April      Town Hall (West)                     12463968\n",
      "           Melbourne Central                    10862976\n",
      "           Princes Bridge                       10660422\n",
      "           Flinders Street Station Underpass    10135936\n",
      "           Bourke Street Mall (North)            9194871\n",
      "                                                  ...   \n",
      "September  Princes Bridge                        7823066\n",
      "           Flinders St-Elizabeth St (East)       6435942\n",
      "           State Library                         6321620\n",
      "           Spencer St-Collins St (North)         6126071\n",
      "           The Arts Centre                       4742644\n",
      "Name: Hourly_Counts, Length: 120, dtype: int64\n"
     ]
    }
   ],
   "source": [
    "#Top 10 (most pedestrians) locations by month\n",
    "print(top_pedestrain_loc_by_group(df,'Month'))"
   ]
  },
  {
   "cell_type": "code",
   "execution_count": 36,
   "id": "2d447659",
   "metadata": {},
   "outputs": [
    {
     "name": "stdout",
     "output_type": "stream",
     "text": [
      "[2009 2010 2011 2012 2013 2014 2015 2016 2017 2018 2019 2020 2021 2022]\n"
     ]
    }
   ],
   "source": [
    "#review year range in the data\n",
    "years = df.Year.unique()\n",
    "years.sort()\n",
    "print(years)"
   ]
  },
  {
   "cell_type": "code",
   "execution_count": 37,
   "id": "d30b9f99",
   "metadata": {},
   "outputs": [],
   "source": [
    "#function to return top ten pedestrian loc by day\n",
    "def loc_pedestrian_count_year(dataframe, year):\n",
    "    #filter by last 2 years\n",
    "    dataframe = dataframe[dataframe.Year == year]\n",
    "   # dataframe = dataframe[dataframe.Sensor_Name == '231 Bourke St']\n",
    "    #group by and get sum of pedestrians\n",
    "    df_agg = dataframe.groupby(['Sensor_Name']).agg({'Hourly_Counts':sum})\n",
    "    return df_agg"
   ]
  },
  {
   "cell_type": "code",
   "execution_count": 38,
   "id": "c04a1051",
   "metadata": {},
   "outputs": [],
   "source": [
    "pd_count_2020 = loc_pedestrian_count_year(df,2020)\n",
    "pd_count_2020 = pd_count_2020.reset_index()\n",
    "#pd_count_2020 = pd_count_2020.sort_index(axis=1)\n",
    "\n",
    "sensor_name_2020 = pd_count_2020['Sensor_Name'].tolist()"
   ]
  },
  {
   "cell_type": "code",
   "execution_count": 39,
   "id": "f09275ee",
   "metadata": {},
   "outputs": [],
   "source": [
    "pd_count_2021 = loc_pedestrian_count_year(df,2021)\n",
    "pd_count_2021 = pd_count_2021.reset_index()\n",
    "#pd_count_2021 = pd_count_2021.sort_index(axis=1)\n",
    "\n",
    "sensor_name_2021 = pd_count_2021['Sensor_Name'].tolist()"
   ]
  },
  {
   "cell_type": "code",
   "execution_count": 40,
   "id": "30074a83",
   "metadata": {},
   "outputs": [],
   "source": [
    "sensor_names_common = list(set(sensor_name_2020).intersection(sensor_name_2021))"
   ]
  },
  {
   "cell_type": "code",
   "execution_count": 41,
   "id": "72211876",
   "metadata": {},
   "outputs": [],
   "source": [
    "pd_count_2020 = pd_count_2020.loc[pd_count_2020['Sensor_Name'].isin(sensor_names_common)]"
   ]
  },
  {
   "cell_type": "code",
   "execution_count": 42,
   "id": "3d04ed18",
   "metadata": {},
   "outputs": [],
   "source": [
    "pd_count_2021 = pd_count_2021.loc[pd_count_2021['Sensor_Name'].isin(sensor_names_common)]"
   ]
  },
  {
   "cell_type": "code",
   "execution_count": 43,
   "id": "4f31fb67",
   "metadata": {},
   "outputs": [],
   "source": [
    "pd_count_2020.reset_index(drop=True, inplace=True)\n",
    "pd_count_2021.reset_index(drop=True, inplace=True)"
   ]
  },
  {
   "cell_type": "code",
   "execution_count": 44,
   "id": "d64f1375",
   "metadata": {},
   "outputs": [
    {
     "name": "stdout",
     "output_type": "stream",
     "text": [
      "                       Sensor_Name  Hourly_Counts\n",
      "0                    231 Bourke St        1342643\n",
      "1                     Alfred Place         659680\n",
      "2                   Birrarung Marr        1502283\n",
      "3   Bourke St - Spencer St (North)        2474396\n",
      "4   Bourke St - Spencer St (South)          58787\n",
      "..                             ...            ...\n",
      "61                Town Hall (West)        5260684\n",
      "62                  Victoria Point         528236\n",
      "63                 Waterfront City         389700\n",
      "64                     Webb Bridge        1107272\n",
      "65                  Westwood Place          41643\n",
      "\n",
      "[66 rows x 2 columns]\n"
     ]
    }
   ],
   "source": [
    "print(pd_count_2020)"
   ]
  },
  {
   "cell_type": "code",
   "execution_count": 45,
   "id": "74e4589f",
   "metadata": {},
   "outputs": [
    {
     "name": "stdout",
     "output_type": "stream",
     "text": [
      "                       Sensor_Name  Hourly_Counts\n",
      "0                    231 Bourke St        2099566\n",
      "1                     Alfred Place         461953\n",
      "2                   Birrarung Marr        1272681\n",
      "3   Bourke St - Spencer St (North)        2316080\n",
      "4   Bourke St - Spencer St (South)         130735\n",
      "..                             ...            ...\n",
      "61                Town Hall (West)        6155040\n",
      "62                  Victoria Point         309276\n",
      "63                 Waterfront City         374339\n",
      "64                     Webb Bridge        1149161\n",
      "65                  Westwood Place         261172\n",
      "\n",
      "[66 rows x 2 columns]\n"
     ]
    }
   ],
   "source": [
    "print(pd_count_2021)"
   ]
  },
  {
   "cell_type": "code",
   "execution_count": 46,
   "id": "ba0b2157",
   "metadata": {},
   "outputs": [],
   "source": [
    "import numpy as np"
   ]
  },
  {
   "cell_type": "code",
   "execution_count": 47,
   "id": "805564f4",
   "metadata": {},
   "outputs": [],
   "source": [
    "pd_count_2021['diff'] = np.where(pd_count_2021['Hourly_Counts'] == pd_count_2020['Hourly_Counts'], 0, pd_count_2021['Hourly_Counts'] - pd_count_2020['Hourly_Counts'])"
   ]
  },
  {
   "cell_type": "code",
   "execution_count": 48,
   "id": "92ed529a",
   "metadata": {},
   "outputs": [
    {
     "name": "stdout",
     "output_type": "stream",
     "text": [
      "                       Sensor_Name  Hourly_Counts    diff\n",
      "0                    231 Bourke St        2099566  756923\n",
      "1                     Alfred Place         461953 -197727\n",
      "2                   Birrarung Marr        1272681 -229602\n",
      "3   Bourke St - Spencer St (North)        2316080 -158316\n",
      "4   Bourke St - Spencer St (South)         130735   71948\n",
      "..                             ...            ...     ...\n",
      "61                Town Hall (West)        6155040  894356\n",
      "62                  Victoria Point         309276 -218960\n",
      "63                 Waterfront City         374339  -15361\n",
      "64                     Webb Bridge        1149161   41889\n",
      "65                  Westwood Place         261172  219529\n",
      "\n",
      "[66 rows x 3 columns]\n"
     ]
    }
   ],
   "source": [
    "print(pd_count_2021)"
   ]
  },
  {
   "cell_type": "code",
   "execution_count": 49,
   "id": "13f76753",
   "metadata": {},
   "outputs": [
    {
     "data": {
      "text/html": [
       "<div>\n",
       "<style scoped>\n",
       "    .dataframe tbody tr th:only-of-type {\n",
       "        vertical-align: middle;\n",
       "    }\n",
       "\n",
       "    .dataframe tbody tr th {\n",
       "        vertical-align: top;\n",
       "    }\n",
       "\n",
       "    .dataframe thead th {\n",
       "        text-align: right;\n",
       "    }\n",
       "</style>\n",
       "<table border=\"1\" class=\"dataframe\">\n",
       "  <thead>\n",
       "    <tr style=\"text-align: right;\">\n",
       "      <th></th>\n",
       "      <th>Sensor_Name</th>\n",
       "      <th>Hourly_Counts</th>\n",
       "      <th>diff</th>\n",
       "    </tr>\n",
       "  </thead>\n",
       "  <tbody>\n",
       "    <tr>\n",
       "      <th>22</th>\n",
       "      <td>Flinders St-Elizabeth St (East)</td>\n",
       "      <td>5852590</td>\n",
       "      <td>-1507594</td>\n",
       "    </tr>\n",
       "    <tr>\n",
       "      <th>34</th>\n",
       "      <td>Melbourne Central</td>\n",
       "      <td>3327672</td>\n",
       "      <td>-814767</td>\n",
       "    </tr>\n",
       "    <tr>\n",
       "      <th>51</th>\n",
       "      <td>Spencer St-Collins St (North)</td>\n",
       "      <td>3163176</td>\n",
       "      <td>-785310</td>\n",
       "    </tr>\n",
       "    <tr>\n",
       "      <th>50</th>\n",
       "      <td>Southern Cross Station</td>\n",
       "      <td>1142488</td>\n",
       "      <td>-623496</td>\n",
       "    </tr>\n",
       "    <tr>\n",
       "      <th>28</th>\n",
       "      <td>Little Collins St-Swanston St (East)</td>\n",
       "      <td>2396703</td>\n",
       "      <td>-515796</td>\n",
       "    </tr>\n",
       "  </tbody>\n",
       "</table>\n",
       "</div>"
      ],
      "text/plain": [
       "                             Sensor_Name  Hourly_Counts     diff\n",
       "22       Flinders St-Elizabeth St (East)        5852590 -1507594\n",
       "34                     Melbourne Central        3327672  -814767\n",
       "51         Spencer St-Collins St (North)        3163176  -785310\n",
       "50                Southern Cross Station        1142488  -623496\n",
       "28  Little Collins St-Swanston St (East)        2396703  -515796"
      ]
     },
     "execution_count": 49,
     "metadata": {},
     "output_type": "execute_result"
    }
   ],
   "source": [
    "pd_count_2021.sort_values(by='diff').head()"
   ]
  },
  {
   "cell_type": "code",
   "execution_count": 50,
   "id": "720551c5",
   "metadata": {},
   "outputs": [
    {
     "data": {
      "text/html": [
       "<div>\n",
       "<style scoped>\n",
       "    .dataframe tbody tr th:only-of-type {\n",
       "        vertical-align: middle;\n",
       "    }\n",
       "\n",
       "    .dataframe tbody tr th {\n",
       "        vertical-align: top;\n",
       "    }\n",
       "\n",
       "    .dataframe thead th {\n",
       "        text-align: right;\n",
       "    }\n",
       "</style>\n",
       "<table border=\"1\" class=\"dataframe\">\n",
       "  <thead>\n",
       "    <tr style=\"text-align: right;\">\n",
       "      <th></th>\n",
       "      <th>Sensor_Name</th>\n",
       "      <th>Hourly_Counts</th>\n",
       "      <th>diff</th>\n",
       "    </tr>\n",
       "  </thead>\n",
       "  <tbody>\n",
       "    <tr>\n",
       "      <th>55</th>\n",
       "      <td>State Library - New</td>\n",
       "      <td>3994935</td>\n",
       "      <td>2188455</td>\n",
       "    </tr>\n",
       "    <tr>\n",
       "      <th>18</th>\n",
       "      <td>Flinders La-Swanston St (West)</td>\n",
       "      <td>8187673</td>\n",
       "      <td>1489762</td>\n",
       "    </tr>\n",
       "    <tr>\n",
       "      <th>21</th>\n",
       "      <td>Flinders Ln - Degraves St (South)</td>\n",
       "      <td>1928889</td>\n",
       "      <td>1486555</td>\n",
       "    </tr>\n",
       "    <tr>\n",
       "      <th>58</th>\n",
       "      <td>Swanston St - RMIT Building 80</td>\n",
       "      <td>2011218</td>\n",
       "      <td>1339490</td>\n",
       "    </tr>\n",
       "    <tr>\n",
       "      <th>56</th>\n",
       "      <td>Swanston St - City Square</td>\n",
       "      <td>2195660</td>\n",
       "      <td>1206102</td>\n",
       "    </tr>\n",
       "  </tbody>\n",
       "</table>\n",
       "</div>"
      ],
      "text/plain": [
       "                          Sensor_Name  Hourly_Counts     diff\n",
       "55                State Library - New        3994935  2188455\n",
       "18     Flinders La-Swanston St (West)        8187673  1489762\n",
       "21  Flinders Ln - Degraves St (South)        1928889  1486555\n",
       "58     Swanston St - RMIT Building 80        2011218  1339490\n",
       "56          Swanston St - City Square        2195660  1206102"
      ]
     },
     "execution_count": 50,
     "metadata": {},
     "output_type": "execute_result"
    }
   ],
   "source": [
    "pd_count_2021.sort_values(by='diff', ascending=False).head()"
   ]
  },
  {
   "cell_type": "code",
   "execution_count": 51,
   "id": "695a94b6",
   "metadata": {},
   "outputs": [],
   "source": [
    "pd_count_2021.to_csv('pdcount2021.csv', encoding='utf-8', index=False)"
   ]
  },
  {
   "cell_type": "code",
   "execution_count": 53,
   "id": "fea0216c",
   "metadata": {},
   "outputs": [],
   "source": [
    "pd_count_2020.to_csv('pdcount2020.csv', encoding='utf-8', index=False)"
   ]
  },
  {
   "cell_type": "code",
   "execution_count": 57,
   "id": "dd9b2367",
   "metadata": {},
   "outputs": [],
   "source": [
    "#df_agg_day = df.groupby(['Day','Sensor_Name']).agg({'Hourly_Counts':sum})\n",
    "df_agg_day = df.groupby(['Day', 'Sensor_Name'])['Hourly_Counts'].sum().astype(int).reset_index()\n",
    "df_agg_day.to_csv('df_agg_day.csv', encoding='utf-8', index=False)"
   ]
  },
  {
   "cell_type": "code",
   "execution_count": 58,
   "id": "dd2a7494",
   "metadata": {},
   "outputs": [],
   "source": [
    "df_agg_month = df.groupby(['Month', 'Sensor_Name'])['Hourly_Counts'].sum().astype(int).reset_index()\n",
    "df_agg_month.to_csv('df_agg_month.csv', encoding='utf-8', index=False)"
   ]
  },
  {
   "cell_type": "code",
   "execution_count": null,
   "id": "4dbe5c4c",
   "metadata": {},
   "outputs": [],
   "source": []
  }
 ],
 "metadata": {
  "kernelspec": {
   "display_name": "Python 3 (ipykernel)",
   "language": "python",
   "name": "python3"
  },
  "language_info": {
   "codemirror_mode": {
    "name": "ipython",
    "version": 3
   },
   "file_extension": ".py",
   "mimetype": "text/x-python",
   "name": "python",
   "nbconvert_exporter": "python",
   "pygments_lexer": "ipython3",
   "version": "3.10.7"
  }
 },
 "nbformat": 4,
 "nbformat_minor": 5
}
