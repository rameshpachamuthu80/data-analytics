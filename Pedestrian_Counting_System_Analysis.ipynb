{
 "cells": [
  {
   "cell_type": "code",
   "execution_count": 202,
   "id": "77106fc2",
   "metadata": {},
   "outputs": [],
   "source": [
    "# Pedestrian Counting System\n",
    "## Dependecy Modules: Pandas and NumPy\n",
    "## Source data expected in as: 'data/data.csv' - relative to the working directory\n",
    "\n",
    "## Have already done the data profiling (ref. Pedestrian_Counting_System_DataProfiling.ipynb). Going straight into the analysis"
   ]
  },
  {
   "cell_type": "code",
   "execution_count": 246,
   "id": "34f8db7f",
   "metadata": {},
   "outputs": [],
   "source": [
    "import pandas as pd"
   ]
  },
  {
   "cell_type": "code",
   "execution_count": 247,
   "id": "e10d1d3b",
   "metadata": {},
   "outputs": [],
   "source": [
    "#create a dataframe with data to be analysed\n",
    "df = pd.read_csv('data/data.csv')"
   ]
  },
  {
   "cell_type": "code",
   "execution_count": 248,
   "id": "0daf1b59",
   "metadata": {},
   "outputs": [
    {
     "data": {
      "text/html": [
       "<div>\n",
       "<style scoped>\n",
       "    .dataframe tbody tr th:only-of-type {\n",
       "        vertical-align: middle;\n",
       "    }\n",
       "\n",
       "    .dataframe tbody tr th {\n",
       "        vertical-align: top;\n",
       "    }\n",
       "\n",
       "    .dataframe thead th {\n",
       "        text-align: right;\n",
       "    }\n",
       "</style>\n",
       "<table border=\"1\" class=\"dataframe\">\n",
       "  <thead>\n",
       "    <tr style=\"text-align: right;\">\n",
       "      <th></th>\n",
       "      <th>ID</th>\n",
       "      <th>Date_Time</th>\n",
       "      <th>Year</th>\n",
       "      <th>Month</th>\n",
       "      <th>Mdate</th>\n",
       "      <th>Day</th>\n",
       "      <th>Time</th>\n",
       "      <th>Sensor_ID</th>\n",
       "      <th>Sensor_Name</th>\n",
       "      <th>Hourly_Counts</th>\n",
       "    </tr>\n",
       "  </thead>\n",
       "  <tbody>\n",
       "    <tr>\n",
       "      <th>0</th>\n",
       "      <td>2887628</td>\n",
       "      <td>November 01, 2019 05:00:00 PM</td>\n",
       "      <td>2019</td>\n",
       "      <td>November</td>\n",
       "      <td>1</td>\n",
       "      <td>Friday</td>\n",
       "      <td>17</td>\n",
       "      <td>34</td>\n",
       "      <td>Flinders St-Spark La</td>\n",
       "      <td>300</td>\n",
       "    </tr>\n",
       "    <tr>\n",
       "      <th>1</th>\n",
       "      <td>2887629</td>\n",
       "      <td>November 01, 2019 05:00:00 PM</td>\n",
       "      <td>2019</td>\n",
       "      <td>November</td>\n",
       "      <td>1</td>\n",
       "      <td>Friday</td>\n",
       "      <td>17</td>\n",
       "      <td>39</td>\n",
       "      <td>Alfred Place</td>\n",
       "      <td>604</td>\n",
       "    </tr>\n",
       "    <tr>\n",
       "      <th>2</th>\n",
       "      <td>2887630</td>\n",
       "      <td>November 01, 2019 05:00:00 PM</td>\n",
       "      <td>2019</td>\n",
       "      <td>November</td>\n",
       "      <td>1</td>\n",
       "      <td>Friday</td>\n",
       "      <td>17</td>\n",
       "      <td>37</td>\n",
       "      <td>Lygon St (East)</td>\n",
       "      <td>216</td>\n",
       "    </tr>\n",
       "    <tr>\n",
       "      <th>3</th>\n",
       "      <td>2887631</td>\n",
       "      <td>November 01, 2019 05:00:00 PM</td>\n",
       "      <td>2019</td>\n",
       "      <td>November</td>\n",
       "      <td>1</td>\n",
       "      <td>Friday</td>\n",
       "      <td>17</td>\n",
       "      <td>40</td>\n",
       "      <td>Lonsdale St-Spring St (West)</td>\n",
       "      <td>627</td>\n",
       "    </tr>\n",
       "    <tr>\n",
       "      <th>4</th>\n",
       "      <td>2887632</td>\n",
       "      <td>November 01, 2019 05:00:00 PM</td>\n",
       "      <td>2019</td>\n",
       "      <td>November</td>\n",
       "      <td>1</td>\n",
       "      <td>Friday</td>\n",
       "      <td>17</td>\n",
       "      <td>36</td>\n",
       "      <td>Queen St (West)</td>\n",
       "      <td>774</td>\n",
       "    </tr>\n",
       "  </tbody>\n",
       "</table>\n",
       "</div>"
      ],
      "text/plain": [
       "        ID                      Date_Time  Year     Month  Mdate     Day  \\\n",
       "0  2887628  November 01, 2019 05:00:00 PM  2019  November      1  Friday   \n",
       "1  2887629  November 01, 2019 05:00:00 PM  2019  November      1  Friday   \n",
       "2  2887630  November 01, 2019 05:00:00 PM  2019  November      1  Friday   \n",
       "3  2887631  November 01, 2019 05:00:00 PM  2019  November      1  Friday   \n",
       "4  2887632  November 01, 2019 05:00:00 PM  2019  November      1  Friday   \n",
       "\n",
       "   Time  Sensor_ID                   Sensor_Name  Hourly_Counts  \n",
       "0    17         34          Flinders St-Spark La            300  \n",
       "1    17         39                  Alfred Place            604  \n",
       "2    17         37               Lygon St (East)            216  \n",
       "3    17         40  Lonsdale St-Spring St (West)            627  \n",
       "4    17         36               Queen St (West)            774  "
      ]
     },
     "execution_count": 248,
     "metadata": {},
     "output_type": "execute_result"
    }
   ],
   "source": [
    "#Review dataframe - data\n",
    "df.head()"
   ]
  },
  {
   "cell_type": "code",
   "execution_count": 249,
   "id": "ae230184",
   "metadata": {},
   "outputs": [
    {
     "data": {
      "text/plain": [
       "4415574"
      ]
     },
     "execution_count": 249,
     "metadata": {},
     "output_type": "execute_result"
    }
   ],
   "source": [
    "#Review dataframe - total row count\n",
    "df.shape[0]"
   ]
  },
  {
   "cell_type": "code",
   "execution_count": 250,
   "id": "16e2435b",
   "metadata": {},
   "outputs": [
    {
     "data": {
      "text/plain": [
       "ID               4415574\n",
       "Date_Time         115465\n",
       "Year                  14\n",
       "Month                 12\n",
       "Mdate                 31\n",
       "Day                    7\n",
       "Time                  24\n",
       "Sensor_ID             82\n",
       "Sensor_Name           94\n",
       "Hourly_Counts       6410\n",
       "dtype: int64"
      ]
     },
     "execution_count": 250,
     "metadata": {},
     "output_type": "execute_result"
    }
   ],
   "source": [
    "#Review data - check uniqueness in column values\n",
    "df.nunique()"
   ]
  },
  {
   "cell_type": "code",
   "execution_count": 251,
   "id": "b4a8f65a",
   "metadata": {},
   "outputs": [],
   "source": [
    "#From earlier data profiling, identified the DQ issue in sensor names...applying the fix before conducting the analysis"
   ]
  },
  {
   "cell_type": "code",
   "execution_count": 252,
   "id": "3b0c4bee",
   "metadata": {},
   "outputs": [],
   "source": [
    "#To fix the DQ issue quickly, just going to standardise the values by find and replace the specific sensor names only          \n",
    "## in total for 12 sensor ids - 46, 54, 64, 60, 69, 68, 67, 66, 72, 77,76,75"
   ]
  },
  {
   "cell_type": "code",
   "execution_count": 253,
   "id": "e60efc36",
   "metadata": {},
   "outputs": [],
   "source": [
    "#DQ fix - fetch the sensor ids that need to be fixed\n",
    "dq_sid_46 = df['Sensor_ID'] == 46\n",
    "dq_sid_54 = df['Sensor_ID'] == 54\n",
    "dq_sid_64 = df['Sensor_ID'] == 64\n",
    "dq_sid_60 = df['Sensor_ID'] == 60\n",
    "dq_sid_69 = df['Sensor_ID'] == 69\n",
    "dq_sid_68 = df['Sensor_ID'] == 68\n",
    "dq_sid_67 = df['Sensor_ID'] == 67\n",
    "dq_sid_66 = df['Sensor_ID'] == 66\n",
    "dq_sid_72 = df['Sensor_ID'] == 72\n",
    "dq_sid_77 = df['Sensor_ID'] == 77\n",
    "dq_sid_76 = df['Sensor_ID'] == 76\n",
    "dq_sid_75 = df['Sensor_ID'] == 75"
   ]
  },
  {
   "cell_type": "code",
   "execution_count": 254,
   "id": "6ec7de30",
   "metadata": {},
   "outputs": [],
   "source": [
    "#DQ fix - update sensor names for the sensor ids that need to be fixed\n",
    "df.loc[dq_sid_46, 'Sensor_Name'] = 'Pelham St (South)'\n",
    "df.loc[dq_sid_54, 'Sensor_Name'] = 'Lincoln-Swanston (West)'\n",
    "df.loc[dq_sid_64, 'Sensor_Name'] = 'Royal Pde - Grattan St'\n",
    "df.loc[dq_sid_60, 'Sensor_Name'] = 'Flinders La - Swanston St (West) Temp'\n",
    "df.loc[dq_sid_69, 'Sensor_Name'] = 'Flinders Ln - Degraves St (Crossing)'\n",
    "df.loc[dq_sid_68, 'Sensor_Name'] = 'Flinders Ln - Degraves St (North)'\n",
    "df.loc[dq_sid_67, 'Sensor_Name'] = 'Flinders Ln - Degraves St (South)'\n",
    "df.loc[dq_sid_66, 'Sensor_Name'] = 'State Library - New'\n",
    "df.loc[dq_sid_72, 'Sensor_Name'] = 'Flinders St - ACMI'\n",
    "df.loc[dq_sid_77, 'Sensor_Name'] = 'Harbour Esplanade (West) - Pedestrian Pa'\n",
    "df.loc[dq_sid_76, 'Sensor_Name'] = 'Macaulay Rd - Bellair St'\n",
    "df.loc[dq_sid_75, 'Sensor_Name'] = 'Spring St - Flinders St (West)'"
   ]
  },
  {
   "cell_type": "code",
   "execution_count": 255,
   "id": "e75d2bfd",
   "metadata": {},
   "outputs": [
    {
     "data": {
      "text/plain": [
       "ID               4415574\n",
       "Date_Time         115465\n",
       "Year                  14\n",
       "Month                 12\n",
       "Mdate                 31\n",
       "Day                    7\n",
       "Time                  24\n",
       "Sensor_ID             82\n",
       "Sensor_Name           82\n",
       "Hourly_Counts       6410\n",
       "dtype: int64"
      ]
     },
     "execution_count": 255,
     "metadata": {},
     "output_type": "execute_result"
    }
   ],
   "source": [
    "#DQ fix - checking whether sensor id and name count matches after the fix\n",
    "df.nunique()"
   ]
  },
  {
   "cell_type": "code",
   "execution_count": 256,
   "id": "2737602d",
   "metadata": {},
   "outputs": [],
   "source": [
    "#From earlier data investigaiton, identified that duplicates rows exist for a given date time, sensor id and name\n",
    "\n",
    "## not enough information to handle these duplicates. So going to keep these rows and proceeding the analysis\n"
   ]
  },
  {
   "cell_type": "code",
   "execution_count": 285,
   "id": "03f2e32a",
   "metadata": {},
   "outputs": [],
   "source": [
    "# Analysis start\n",
    "\n",
    "# 1\n",
    "\n",
    "## Top 10 (most pedestrians) locations by day\n",
    "\n",
    "##   Going to get to do sum of 'Hourly_Counts' for each day of the week (Sunday, Monday and so on) for location (Sensor Name)\n",
    "##   Get the top 10 largest values in hourly count\n",
    "\n",
    "##     To repeat the above for each day of the week, funtion will implemented for reusability"
   ]
  },
  {
   "cell_type": "code",
   "execution_count": 265,
   "id": "c82c7b6b",
   "metadata": {},
   "outputs": [],
   "source": [
    "#function to return top ten pedestrian loc by day\n",
    "\n",
    "def top_pedestrain_loc_by_day(dataframe,day):\n",
    "    \n",
    "    #filter df by day\n",
    "    df_day = dataframe[dataframe.Day == day]\n",
    "        \n",
    "    #group by sensor name and get sum of pedestrians, sort by largest and return top 10 value\n",
    "    return df_day.groupby(['Sensor_Name'])['Hourly_Counts'].sum().sort_values(ascending=False).head(10)\n",
    "    \n"
   ]
  },
  {
   "cell_type": "code",
   "execution_count": 282,
   "id": "9b050a5d",
   "metadata": {},
   "outputs": [],
   "source": [
    "from IPython.display import display"
   ]
  },
  {
   "cell_type": "code",
   "execution_count": 283,
   "id": "98024037",
   "metadata": {},
   "outputs": [
    {
     "name": "stdout",
     "output_type": "stream",
     "text": [
      "Top 10 pedestrian count by days: For - Sunday\n"
     ]
    },
    {
     "data": {
      "text/plain": [
       "Sensor_Name\n",
       "Town Hall (West)                     18172940\n",
       "Melbourne Central                    15659936\n",
       "Princes Bridge                       15588544\n",
       "Bourke Street Mall (North)           13719617\n",
       "Bourke Street Mall (South)           13474209\n",
       "Flinders Street Station Underpass    13016524\n",
       "Flinders St-Elizabeth St (East)       9225154\n",
       "Southbank                             9199517\n",
       "The Arts Centre                       8963423\n",
       "State Library                         8931922\n",
       "Name: Hourly_Counts, dtype: int64"
      ]
     },
     "metadata": {},
     "output_type": "display_data"
    },
    {
     "name": "stdout",
     "output_type": "stream",
     "text": [
      "Top 10 pedestrian count by days: For - Monday\n"
     ]
    },
    {
     "data": {
      "text/plain": [
       "Sensor_Name\n",
       "Town Hall (West)                     19272251\n",
       "Flinders Street Station Underpass    17820508\n",
       "Melbourne Central                    15661642\n",
       "Bourke Street Mall (South)           14738561\n",
       "Princes Bridge                       14581093\n",
       "Bourke Street Mall (North)           14281681\n",
       "Spencer St-Collins St (North)        11849061\n",
       "Flinders St-Elizabeth St (East)      11537518\n",
       "State Library                        10339353\n",
       "Flagstaff Station                     9654896\n",
       "Name: Hourly_Counts, dtype: int64"
      ]
     },
     "metadata": {},
     "output_type": "display_data"
    },
    {
     "name": "stdout",
     "output_type": "stream",
     "text": [
      "Top 10 pedestrian count by days: For - Tuesday\n"
     ]
    },
    {
     "data": {
      "text/plain": [
       "Sensor_Name\n",
       "Town Hall (West)                     19457168\n",
       "Flinders Street Station Underpass    18537064\n",
       "Melbourne Central                    16161824\n",
       "Bourke Street Mall (South)           14480606\n",
       "Princes Bridge                       14460721\n",
       "Bourke Street Mall (North)           14337781\n",
       "Spencer St-Collins St (North)        12623319\n",
       "Flinders St-Elizabeth St (East)      11864474\n",
       "State Library                        10617852\n",
       "Flagstaff Station                    10430342\n",
       "Name: Hourly_Counts, dtype: int64"
      ]
     },
     "metadata": {},
     "output_type": "display_data"
    },
    {
     "name": "stdout",
     "output_type": "stream",
     "text": [
      "Top 10 pedestrian count by days: For - Wednesday\n"
     ]
    },
    {
     "data": {
      "text/plain": [
       "Sensor_Name\n",
       "Town Hall (West)                     20360823\n",
       "Flinders Street Station Underpass    19083684\n",
       "Melbourne Central                    16753294\n",
       "Princes Bridge                       15665642\n",
       "Bourke Street Mall (South)           15396248\n",
       "Bourke Street Mall (North)           15112531\n",
       "Spencer St-Collins St (North)        13004087\n",
       "Flinders St-Elizabeth St (East)      12031778\n",
       "State Library                        11000867\n",
       "Flagstaff Station                    10553562\n",
       "Name: Hourly_Counts, dtype: int64"
      ]
     },
     "metadata": {},
     "output_type": "display_data"
    },
    {
     "name": "stdout",
     "output_type": "stream",
     "text": [
      "Top 10 pedestrian count by days: For - Thursday\n"
     ]
    },
    {
     "data": {
      "text/plain": [
       "Sensor_Name\n",
       "Town Hall (West)                     21187600\n",
       "Flinders Street Station Underpass    19496066\n",
       "Melbourne Central                    17114784\n",
       "Bourke Street Mall (South)           16378446\n",
       "Bourke Street Mall (North)           16037716\n",
       "Princes Bridge                       15776348\n",
       "Spencer St-Collins St (North)        13007689\n",
       "Flinders St-Elizabeth St (East)      12088848\n",
       "State Library                        11091657\n",
       "Southern Cross Station               10465545\n",
       "Name: Hourly_Counts, dtype: int64"
      ]
     },
     "metadata": {},
     "output_type": "display_data"
    },
    {
     "name": "stdout",
     "output_type": "stream",
     "text": [
      "Top 10 pedestrian count by days: For - Friday\n"
     ]
    },
    {
     "data": {
      "text/plain": [
       "Sensor_Name\n",
       "Town Hall (West)                     24393876\n",
       "Flinders Street Station Underpass    21320727\n",
       "Melbourne Central                    19993700\n",
       "Bourke Street Mall (South)           18881248\n",
       "Princes Bridge                       18484231\n",
       "Bourke Street Mall (North)           18445974\n",
       "Spencer St-Collins St (North)        13058283\n",
       "Flinders St-Elizabeth St (East)      12619633\n",
       "State Library                        12265360\n",
       "Southbank                            11080180\n",
       "Name: Hourly_Counts, dtype: int64"
      ]
     },
     "metadata": {},
     "output_type": "display_data"
    },
    {
     "name": "stdout",
     "output_type": "stream",
     "text": [
      "Top 10 pedestrian count by days: For - Saturday\n"
     ]
    },
    {
     "data": {
      "text/plain": [
       "Sensor_Name\n",
       "Town Hall (West)                     22499236\n",
       "Melbourne Central                    19171957\n",
       "Princes Bridge                       18369336\n",
       "Bourke Street Mall (South)           17095304\n",
       "Bourke Street Mall (North)           16862095\n",
       "Flinders Street Station Underpass    15417211\n",
       "Southbank                            11062405\n",
       "State Library                        10673040\n",
       "Flinders St-Elizabeth St (East)      10583641\n",
       "The Arts Centre                       9883781\n",
       "Name: Hourly_Counts, dtype: int64"
      ]
     },
     "metadata": {},
     "output_type": "display_data"
    }
   ],
   "source": [
    "#Top 10 (most pedestrians) locations by days\n",
    "days = ['Sunday', 'Monday', 'Tuesday', 'Wednesday','Thursday','Friday','Saturday']\n",
    "for day in days:\n",
    "    print('Top 10 pedestrian count by days: For - ' + day)\n",
    "    display(top_pedestrain_loc_by_day(df,day))"
   ]
  },
  {
   "cell_type": "code",
   "execution_count": 284,
   "id": "4b9e2613",
   "metadata": {},
   "outputs": [],
   "source": [
    "# 2\n",
    "\n",
    "## Top 10 (most pedestrians) locations by month\n",
    "\n",
    "##   Going to get to do sum of 'Hourly_Counts' for each month (January, February and so on) for location (Sensor Name)\n",
    "##   Get the top 10 largest values in hourly count\n",
    "\n",
    "##     To repeat the above for each month, funtion will implemented for reusability"
   ]
  },
  {
   "cell_type": "code",
   "execution_count": 286,
   "id": "23259629",
   "metadata": {},
   "outputs": [],
   "source": [
    "#function to return top ten pedestrian loc by month\n",
    "\n",
    "def top_pedestrain_loc_by_month(dataframe,month):\n",
    "    \n",
    "    #filter df by month\n",
    "    df_month = dataframe[dataframe.Month == month]\n",
    "        \n",
    "    #group by sensor name and get sum of pedestrians, sort by largest and return top 10 value\n",
    "    return df_month.groupby(['Sensor_Name'])['Hourly_Counts'].sum().sort_values(ascending=False).head(10)\n",
    "    \n"
   ]
  },
  {
   "cell_type": "code",
   "execution_count": 287,
   "id": "4f7a02e5",
   "metadata": {},
   "outputs": [
    {
     "name": "stdout",
     "output_type": "stream",
     "text": [
      "Top 10 pedestrian count by months: For - January\n"
     ]
    },
    {
     "data": {
      "text/plain": [
       "Sensor_Name\n",
       "Town Hall (West)                     11967639\n",
       "Princes Bridge                       10796073\n",
       "Flinders Street Station Underpass    10279628\n",
       "Bourke Street Mall (South)            9106886\n",
       "Melbourne Central                     8433264\n",
       "Bourke Street Mall (North)            8136291\n",
       "Flinders St-Elizabeth St (East)       6307184\n",
       "Southbank                             6279974\n",
       "The Arts Centre                       6214671\n",
       "Spencer St-Collins St (North)         6096117\n",
       "Name: Hourly_Counts, dtype: int64"
      ]
     },
     "metadata": {},
     "output_type": "display_data"
    },
    {
     "name": "stdout",
     "output_type": "stream",
     "text": [
      "Top 10 pedestrian count by months: For - February\n"
     ]
    },
    {
     "data": {
      "text/plain": [
       "Sensor_Name\n",
       "Town Hall (West)                     11156945\n",
       "Flinders Street Station Underpass    10292516\n",
       "Princes Bridge                        9493960\n",
       "Melbourne Central                     9004266\n",
       "Bourke Street Mall (North)            8335328\n",
       "Bourke Street Mall (South)            8134134\n",
       "Spencer St-Collins St (North)         6591467\n",
       "Flinders St-Elizabeth St (East)       6547085\n",
       "State Library                         5708978\n",
       "The Arts Centre                       5657723\n",
       "Name: Hourly_Counts, dtype: int64"
      ]
     },
     "metadata": {},
     "output_type": "display_data"
    },
    {
     "name": "stdout",
     "output_type": "stream",
     "text": [
      "Top 10 pedestrian count by months: For - March\n"
     ]
    },
    {
     "data": {
      "text/plain": [
       "Sensor_Name\n",
       "Town Hall (West)                     12655259\n",
       "Melbourne Central                    11737486\n",
       "Flinders Street Station Underpass    11419121\n",
       "Princes Bridge                       11001403\n",
       "Bourke Street Mall (North)            9643824\n",
       "Bourke Street Mall (South)            9017586\n",
       "Flinders St-Elizabeth St (East)       7566831\n",
       "Spencer St-Collins St (North)         7149300\n",
       "State Library                         7091544\n",
       "Southbank                             5930487\n",
       "Name: Hourly_Counts, dtype: int64"
      ]
     },
     "metadata": {},
     "output_type": "display_data"
    },
    {
     "name": "stdout",
     "output_type": "stream",
     "text": [
      "Top 10 pedestrian count by months: For - April\n"
     ]
    },
    {
     "data": {
      "text/plain": [
       "Sensor_Name\n",
       "Town Hall (West)                     12463968\n",
       "Melbourne Central                    10862976\n",
       "Princes Bridge                       10660422\n",
       "Flinders Street Station Underpass    10135936\n",
       "Bourke Street Mall (North)            9194871\n",
       "Bourke Street Mall (South)            8815472\n",
       "Flinders St-Elizabeth St (East)       7561340\n",
       "Spencer St-Collins St (North)         6215026\n",
       "State Library                         6159571\n",
       "The Arts Centre                       6090009\n",
       "Name: Hourly_Counts, dtype: int64"
      ]
     },
     "metadata": {},
     "output_type": "display_data"
    },
    {
     "name": "stdout",
     "output_type": "stream",
     "text": [
      "Top 10 pedestrian count by months: For - May\n"
     ]
    },
    {
     "data": {
      "text/plain": [
       "Sensor_Name\n",
       "Town Hall (West)                     11591495\n",
       "Flinders Street Station Underpass    10787077\n",
       "Melbourne Central                    10615667\n",
       "Bourke Street Mall (North)            9774547\n",
       "Princes Bridge                        9561337\n",
       "Bourke Street Mall (South)            8901477\n",
       "Flinders St-Elizabeth St (East)       7592610\n",
       "State Library                         6580684\n",
       "Spencer St-Collins St (North)         6009446\n",
       "Southbank                             5862252\n",
       "Name: Hourly_Counts, dtype: int64"
      ]
     },
     "metadata": {},
     "output_type": "display_data"
    },
    {
     "name": "stdout",
     "output_type": "stream",
     "text": [
      "Top 10 pedestrian count by months: For - June\n"
     ]
    },
    {
     "data": {
      "text/plain": [
       "Sensor_Name\n",
       "Town Hall (West)                     11934368\n",
       "Melbourne Central                    10287904\n",
       "Flinders Street Station Underpass     9867379\n",
       "Bourke Street Mall (North)            9455301\n",
       "Princes Bridge                        8997795\n",
       "Bourke Street Mall (South)            8818621\n",
       "Flinders St-Elizabeth St (East)       6549459\n",
       "Spencer St-Collins St (North)         6139724\n",
       "State Library                         5463552\n",
       "Southbank                             5242526\n",
       "Name: Hourly_Counts, dtype: int64"
      ]
     },
     "metadata": {},
     "output_type": "display_data"
    },
    {
     "name": "stdout",
     "output_type": "stream",
     "text": [
      "Top 10 pedestrian count by months: For - July\n"
     ]
    },
    {
     "data": {
      "text/plain": [
       "Sensor_Name\n",
       "Town Hall (West)                     12555809\n",
       "Melbourne Central                    11224490\n",
       "Flinders Street Station Underpass    10808119\n",
       "Bourke Street Mall (North)            9677482\n",
       "Bourke Street Mall (South)            9499308\n",
       "Princes Bridge                        9159764\n",
       "Spencer St-Collins St (North)         6588137\n",
       "State Library                         6434716\n",
       "Southbank                             5903894\n",
       "Flinders St-Elizabeth St (East)       5883997\n",
       "Name: Hourly_Counts, dtype: int64"
      ]
     },
     "metadata": {},
     "output_type": "display_data"
    },
    {
     "name": "stdout",
     "output_type": "stream",
     "text": [
      "Top 10 pedestrian count by months: For - August\n"
     ]
    },
    {
     "data": {
      "text/plain": [
       "Sensor_Name\n",
       "Town Hall (West)                     11675587\n",
       "Melbourne Central                    10477135\n",
       "Flinders Street Station Underpass     9214815\n",
       "Bourke Street Mall (North)            8299742\n",
       "Bourke Street Mall (South)            8282631\n",
       "Princes Bridge                        7861189\n",
       "State Library                         6404288\n",
       "Spencer St-Collins St (North)         5933432\n",
       "Flinders St-Elizabeth St (East)       4805402\n",
       "Flagstaff Station                     4648096\n",
       "Name: Hourly_Counts, dtype: int64"
      ]
     },
     "metadata": {},
     "output_type": "display_data"
    },
    {
     "name": "stdout",
     "output_type": "stream",
     "text": [
      "Top 10 pedestrian count by months: For - September\n"
     ]
    },
    {
     "data": {
      "text/plain": [
       "Sensor_Name\n",
       "Town Hall (West)                     11475209\n",
       "Melbourne Central                     9902555\n",
       "Flinders Street Station Underpass     9602620\n",
       "Bourke Street Mall (South)            8286561\n",
       "Bourke Street Mall (North)            8192967\n",
       "Princes Bridge                        7823066\n",
       "Flinders St-Elizabeth St (East)       6435942\n",
       "State Library                         6321620\n",
       "Spencer St-Collins St (North)         6126071\n",
       "The Arts Centre                       4742644\n",
       "Name: Hourly_Counts, dtype: int64"
      ]
     },
     "metadata": {},
     "output_type": "display_data"
    },
    {
     "name": "stdout",
     "output_type": "stream",
     "text": [
      "Top 10 pedestrian count by months: For - October\n"
     ]
    },
    {
     "data": {
      "text/plain": [
       "Sensor_Name\n",
       "Town Hall (West)                     11152763\n",
       "Flinders Street Station Underpass    10333881\n",
       "Bourke Street Mall (North)            8737215\n",
       "Bourke Street Mall (South)            8675275\n",
       "Melbourne Central                     8260476\n",
       "Princes Bridge                        7877358\n",
       "State Library                         6942115\n",
       "Spencer St-Collins St (North)         6728313\n",
       "Flinders St-Elizabeth St (East)       5860962\n",
       "Southbank                             5276274\n",
       "Name: Hourly_Counts, dtype: int64"
      ]
     },
     "metadata": {},
     "output_type": "display_data"
    },
    {
     "name": "stdout",
     "output_type": "stream",
     "text": [
      "Top 10 pedestrian count by months: For - November\n"
     ]
    },
    {
     "data": {
      "text/plain": [
       "Sensor_Name\n",
       "Town Hall (West)                     12136661\n",
       "Flinders Street Station Underpass    10598560\n",
       "Bourke Street Mall (South)            9772438\n",
       "Melbourne Central                     9752026\n",
       "Princes Bridge                        8942629\n",
       "Bourke Street Mall (North)            8871745\n",
       "Flinders St-Elizabeth St (East)       7197048\n",
       "Spencer St-Collins St (North)         6661345\n",
       "State Library                         6630549\n",
       "Southbank                             5660775\n",
       "Name: Hourly_Counts, dtype: int64"
      ]
     },
     "metadata": {},
     "output_type": "display_data"
    },
    {
     "name": "stdout",
     "output_type": "stream",
     "text": [
      "Top 10 pedestrian count by months: For - December\n"
     ]
    },
    {
     "data": {
      "text/plain": [
       "Sensor_Name\n",
       "Town Hall (West)                     14578191\n",
       "Bourke Street Mall (South)           13134233\n",
       "Flinders Street Station Underpass    11352132\n",
       "Princes Bridge                       10750919\n",
       "Bourke Street Mall (North)           10478082\n",
       "Melbourne Central                     9958892\n",
       "Flinders St-Elizabeth St (East)       7643186\n",
       "Southbank                             7087552\n",
       "State Library                         6079839\n",
       "Spencer St-Collins St (North)         5946613\n",
       "Name: Hourly_Counts, dtype: int64"
      ]
     },
     "metadata": {},
     "output_type": "display_data"
    }
   ],
   "source": [
    "#Top 10 (most pedestrians) locations by month\n",
    "months = ['January', 'February', 'March', 'April', 'May', 'June', 'July', 'August', 'September', 'October','November','December']\n",
    "for month in months:\n",
    "    print('Top 10 pedestrian count by months: For - ' + month)\n",
    "    display(top_pedestrain_loc_by_month(df,month))"
   ]
  },
  {
   "cell_type": "code",
   "execution_count": 288,
   "id": "2d447659",
   "metadata": {},
   "outputs": [],
   "source": [
    "# 3\n",
    "\n",
    "## location has shown most decline due to lockdowns in last 2 years (Comparing Year 2020 and 2021 )\n",
    "\n",
    "## Approach:\n",
    "##  1. Funtion will implemented for reusability to filter dataset by reading year\n",
    "##  2. Since not all locations were common between the years,for this analysis only common locations between the years will used\n",
    "##  3. New column with change in Pedestrian count for locations between the years will be created\n",
    "##  4. From this new column, the location for year 2021 with most drop in pedesrians will be identified \n"
   ]
  },
  {
   "cell_type": "code",
   "execution_count": 289,
   "id": "d30b9f99",
   "metadata": {},
   "outputs": [],
   "source": [
    "#function to return pedestrian count by loc for given year\n",
    "def loc_pedestrian_count_year(dataframe, year):\n",
    "\n",
    "    dataframe = dataframe[dataframe.Year == year]\n",
    "\n",
    "    df_agg = dataframe.groupby(['Sensor_Name']).agg({'Hourly_Counts':sum})\n",
    "    \n",
    "    return df_agg"
   ]
  },
  {
   "cell_type": "code",
   "execution_count": 290,
   "id": "c04a1051",
   "metadata": {},
   "outputs": [],
   "source": [
    "#get predestrain count for year 2020\n",
    "\n",
    "pd_count_2020 = loc_pedestrian_count_year(df,2020)\n",
    "pd_count_2020 = pd_count_2020.reset_index()\n",
    "\n",
    "sensor_name_2020 = pd_count_2020['Sensor_Name'].tolist()"
   ]
  },
  {
   "cell_type": "code",
   "execution_count": 291,
   "id": "f09275ee",
   "metadata": {},
   "outputs": [],
   "source": [
    "#get predestrain count for year 2021\n",
    "\n",
    "pd_count_2021 = loc_pedestrian_count_year(df,2021)\n",
    "pd_count_2021 = pd_count_2021.reset_index()\n",
    "\n",
    "\n",
    "sensor_name_2021 = pd_count_2021['Sensor_Name'].tolist()"
   ]
  },
  {
   "cell_type": "code",
   "execution_count": 293,
   "id": "30074a83",
   "metadata": {},
   "outputs": [],
   "source": [
    "#keeping only locations common between year 2020 and 2021\n",
    "\n",
    "sensor_names_common = list(set(sensor_name_2020).intersection(sensor_name_2021))\n",
    "pd_count_2020 = pd_count_2020.loc[pd_count_2020['Sensor_Name'].isin(sensor_names_common)]\n",
    "pd_count_2021 = pd_count_2021.loc[pd_count_2021['Sensor_Name'].isin(sensor_names_common)]\n",
    "\n",
    "pd_count_2020.reset_index(drop=True, inplace=True)\n",
    "pd_count_2021.reset_index(drop=True, inplace=True)"
   ]
  },
  {
   "cell_type": "code",
   "execution_count": 158,
   "id": "72211876",
   "metadata": {},
   "outputs": [],
   "source": [
    "#confirming row count and columns are consistent between 2020 and 2021 dataframe"
   ]
  },
  {
   "cell_type": "code",
   "execution_count": 294,
   "id": "3d04ed18",
   "metadata": {},
   "outputs": [
    {
     "name": "stdout",
     "output_type": "stream",
     "text": [
      "                       Sensor_Name  Hourly_Counts\n",
      "0                    231 Bourke St        1342643\n",
      "1                     Alfred Place         659680\n",
      "2                   Birrarung Marr        1502283\n",
      "3   Bourke St - Spencer St (North)        2474396\n",
      "4   Bourke St - Spencer St (South)          58787\n",
      "..                             ...            ...\n",
      "61                Town Hall (West)        5260684\n",
      "62                  Victoria Point         528236\n",
      "63                 Waterfront City         389700\n",
      "64                     Webb Bridge        1107272\n",
      "65                  Westwood Place          41643\n",
      "\n",
      "[66 rows x 2 columns]\n"
     ]
    }
   ],
   "source": [
    "print(pd_count_2020)"
   ]
  },
  {
   "cell_type": "code",
   "execution_count": 295,
   "id": "4f31fb67",
   "metadata": {},
   "outputs": [
    {
     "name": "stdout",
     "output_type": "stream",
     "text": [
      "                       Sensor_Name  Hourly_Counts\n",
      "0                    231 Bourke St        2099566\n",
      "1                     Alfred Place         461953\n",
      "2                   Birrarung Marr        1272681\n",
      "3   Bourke St - Spencer St (North)        2316080\n",
      "4   Bourke St - Spencer St (South)         130735\n",
      "..                             ...            ...\n",
      "61                Town Hall (West)        6155040\n",
      "62                  Victoria Point         309276\n",
      "63                 Waterfront City         374339\n",
      "64                     Webb Bridge        1149161\n",
      "65                  Westwood Place         261172\n",
      "\n",
      "[66 rows x 2 columns]\n"
     ]
    }
   ],
   "source": [
    "print(pd_count_2021)"
   ]
  },
  {
   "cell_type": "code",
   "execution_count": 296,
   "id": "74e4589f",
   "metadata": {},
   "outputs": [],
   "source": [
    "#creating new column in 2021 df with change in pedestrain count comparing 2021 and 2020 \n",
    "import numpy as np\n",
    "pd_count_2021['diff'] = np.where(pd_count_2021['Hourly_Counts'] == pd_count_2020['Hourly_Counts'], 0, pd_count_2021['Hourly_Counts'] - pd_count_2020['Hourly_Counts'])"
   ]
  },
  {
   "cell_type": "code",
   "execution_count": 297,
   "id": "ba0b2157",
   "metadata": {},
   "outputs": [
    {
     "data": {
      "text/html": [
       "<div>\n",
       "<style scoped>\n",
       "    .dataframe tbody tr th:only-of-type {\n",
       "        vertical-align: middle;\n",
       "    }\n",
       "\n",
       "    .dataframe tbody tr th {\n",
       "        vertical-align: top;\n",
       "    }\n",
       "\n",
       "    .dataframe thead th {\n",
       "        text-align: right;\n",
       "    }\n",
       "</style>\n",
       "<table border=\"1\" class=\"dataframe\">\n",
       "  <thead>\n",
       "    <tr style=\"text-align: right;\">\n",
       "      <th></th>\n",
       "      <th>Sensor_Name</th>\n",
       "      <th>Hourly_Counts</th>\n",
       "      <th>diff</th>\n",
       "    </tr>\n",
       "  </thead>\n",
       "  <tbody>\n",
       "    <tr>\n",
       "      <th>22</th>\n",
       "      <td>Flinders St-Elizabeth St (East)</td>\n",
       "      <td>5852590</td>\n",
       "      <td>-1507594</td>\n",
       "    </tr>\n",
       "    <tr>\n",
       "      <th>34</th>\n",
       "      <td>Melbourne Central</td>\n",
       "      <td>3327672</td>\n",
       "      <td>-814767</td>\n",
       "    </tr>\n",
       "    <tr>\n",
       "      <th>51</th>\n",
       "      <td>Spencer St-Collins St (North)</td>\n",
       "      <td>3163176</td>\n",
       "      <td>-785310</td>\n",
       "    </tr>\n",
       "    <tr>\n",
       "      <th>50</th>\n",
       "      <td>Southern Cross Station</td>\n",
       "      <td>1142488</td>\n",
       "      <td>-623496</td>\n",
       "    </tr>\n",
       "    <tr>\n",
       "      <th>28</th>\n",
       "      <td>Little Collins St-Swanston St (East)</td>\n",
       "      <td>2396703</td>\n",
       "      <td>-515796</td>\n",
       "    </tr>\n",
       "  </tbody>\n",
       "</table>\n",
       "</div>"
      ],
      "text/plain": [
       "                             Sensor_Name  Hourly_Counts     diff\n",
       "22       Flinders St-Elizabeth St (East)        5852590 -1507594\n",
       "34                     Melbourne Central        3327672  -814767\n",
       "51         Spencer St-Collins St (North)        3163176  -785310\n",
       "50                Southern Cross Station        1142488  -623496\n",
       "28  Little Collins St-Swanston St (East)        2396703  -515796"
      ]
     },
     "execution_count": 297,
     "metadata": {},
     "output_type": "execute_result"
    }
   ],
   "source": [
    "#Getting the most drop in pedestrian count for year 2021\n",
    "pd_count_2021.sort_values(by='diff').head()"
   ]
  },
  {
   "cell_type": "code",
   "execution_count": 298,
   "id": "805564f4",
   "metadata": {},
   "outputs": [
    {
     "data": {
      "text/html": [
       "<div>\n",
       "<style scoped>\n",
       "    .dataframe tbody tr th:only-of-type {\n",
       "        vertical-align: middle;\n",
       "    }\n",
       "\n",
       "    .dataframe tbody tr th {\n",
       "        vertical-align: top;\n",
       "    }\n",
       "\n",
       "    .dataframe thead th {\n",
       "        text-align: right;\n",
       "    }\n",
       "</style>\n",
       "<table border=\"1\" class=\"dataframe\">\n",
       "  <thead>\n",
       "    <tr style=\"text-align: right;\">\n",
       "      <th></th>\n",
       "      <th>Sensor_Name</th>\n",
       "      <th>Hourly_Counts</th>\n",
       "      <th>diff</th>\n",
       "    </tr>\n",
       "  </thead>\n",
       "  <tbody>\n",
       "    <tr>\n",
       "      <th>55</th>\n",
       "      <td>State Library - New</td>\n",
       "      <td>3994935</td>\n",
       "      <td>2188455</td>\n",
       "    </tr>\n",
       "    <tr>\n",
       "      <th>18</th>\n",
       "      <td>Flinders La-Swanston St (West)</td>\n",
       "      <td>8187673</td>\n",
       "      <td>1489762</td>\n",
       "    </tr>\n",
       "    <tr>\n",
       "      <th>21</th>\n",
       "      <td>Flinders Ln - Degraves St (South)</td>\n",
       "      <td>1928889</td>\n",
       "      <td>1486555</td>\n",
       "    </tr>\n",
       "    <tr>\n",
       "      <th>58</th>\n",
       "      <td>Swanston St - RMIT Building 80</td>\n",
       "      <td>2011218</td>\n",
       "      <td>1339490</td>\n",
       "    </tr>\n",
       "    <tr>\n",
       "      <th>56</th>\n",
       "      <td>Swanston St - City Square</td>\n",
       "      <td>2195660</td>\n",
       "      <td>1206102</td>\n",
       "    </tr>\n",
       "  </tbody>\n",
       "</table>\n",
       "</div>"
      ],
      "text/plain": [
       "                          Sensor_Name  Hourly_Counts     diff\n",
       "55                State Library - New        3994935  2188455\n",
       "18     Flinders La-Swanston St (West)        8187673  1489762\n",
       "21  Flinders Ln - Degraves St (South)        1928889  1486555\n",
       "58     Swanston St - RMIT Building 80        2011218  1339490\n",
       "56          Swanston St - City Square        2195660  1206102"
      ]
     },
     "execution_count": 298,
     "metadata": {},
     "output_type": "execute_result"
    }
   ],
   "source": [
    "#4.\n",
    "\n",
    "## location that has most growth in last year - 2021\n",
    "\n",
    "pd_count_2021.sort_values(by='diff', ascending=False).head()"
   ]
  },
  {
   "cell_type": "code",
   "execution_count": null,
   "id": "695a94b6",
   "metadata": {},
   "outputs": [],
   "source": []
  }
 ],
 "metadata": {
  "kernelspec": {
   "display_name": "Python 3 (ipykernel)",
   "language": "python",
   "name": "python3"
  },
  "language_info": {
   "codemirror_mode": {
    "name": "ipython",
    "version": 3
   },
   "file_extension": ".py",
   "mimetype": "text/x-python",
   "name": "python",
   "nbconvert_exporter": "python",
   "pygments_lexer": "ipython3",
   "version": "3.10.7"
  }
 },
 "nbformat": 4,
 "nbformat_minor": 5
}
